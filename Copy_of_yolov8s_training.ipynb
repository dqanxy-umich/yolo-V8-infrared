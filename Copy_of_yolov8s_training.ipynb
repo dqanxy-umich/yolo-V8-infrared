{
 "cells": [
  {
   "cell_type": "code",
   "execution_count": null,
   "metadata": {
    "colab": {
     "base_uri": "https://localhost:8080/"
    },
    "id": "yYiCAuUqUGhK",
    "outputId": "aa9d904d-74fb-4329-ef46-b0f905e796b8"
   },
   "outputs": [
    {
     "name": "stdout",
     "output_type": "stream",
     "text": [
      "Collecting ultralytics\n",
      "  Downloading ultralytics-8.3.24-py3-none-any.whl.metadata (35 kB)\n",
      "Requirement already satisfied: numpy>=1.23.0 in /usr/local/lib/python3.10/dist-packages (from ultralytics) (1.26.4)\n",
      "Requirement already satisfied: matplotlib>=3.3.0 in /usr/local/lib/python3.10/dist-packages (from ultralytics) (3.7.1)\n",
      "Requirement already satisfied: opencv-python>=4.6.0 in /usr/local/lib/python3.10/dist-packages (from ultralytics) (4.10.0.84)\n",
      "Requirement already satisfied: pillow>=7.1.2 in /usr/local/lib/python3.10/dist-packages (from ultralytics) (10.4.0)\n",
      "Requirement already satisfied: pyyaml>=5.3.1 in /usr/local/lib/python3.10/dist-packages (from ultralytics) (6.0.2)\n",
      "Requirement already satisfied: requests>=2.23.0 in /usr/local/lib/python3.10/dist-packages (from ultralytics) (2.32.3)\n",
      "Requirement already satisfied: scipy>=1.4.1 in /usr/local/lib/python3.10/dist-packages (from ultralytics) (1.13.1)\n",
      "Requirement already satisfied: torch>=1.8.0 in /usr/local/lib/python3.10/dist-packages (from ultralytics) (2.5.0+cu121)\n",
      "Requirement already satisfied: torchvision>=0.9.0 in /usr/local/lib/python3.10/dist-packages (from ultralytics) (0.20.0+cu121)\n",
      "Requirement already satisfied: tqdm>=4.64.0 in /usr/local/lib/python3.10/dist-packages (from ultralytics) (4.66.5)\n",
      "Requirement already satisfied: psutil in /usr/local/lib/python3.10/dist-packages (from ultralytics) (5.9.5)\n",
      "Requirement already satisfied: py-cpuinfo in /usr/local/lib/python3.10/dist-packages (from ultralytics) (9.0.0)\n",
      "Requirement already satisfied: pandas>=1.1.4 in /usr/local/lib/python3.10/dist-packages (from ultralytics) (2.2.2)\n",
      "Requirement already satisfied: seaborn>=0.11.0 in /usr/local/lib/python3.10/dist-packages (from ultralytics) (0.13.2)\n",
      "Collecting ultralytics-thop>=2.0.0 (from ultralytics)\n",
      "  Downloading ultralytics_thop-2.0.9-py3-none-any.whl.metadata (9.3 kB)\n",
      "Requirement already satisfied: contourpy>=1.0.1 in /usr/local/lib/python3.10/dist-packages (from matplotlib>=3.3.0->ultralytics) (1.3.0)\n",
      "Requirement already satisfied: cycler>=0.10 in /usr/local/lib/python3.10/dist-packages (from matplotlib>=3.3.0->ultralytics) (0.12.1)\n",
      "Requirement already satisfied: fonttools>=4.22.0 in /usr/local/lib/python3.10/dist-packages (from matplotlib>=3.3.0->ultralytics) (4.54.1)\n",
      "Requirement already satisfied: kiwisolver>=1.0.1 in /usr/local/lib/python3.10/dist-packages (from matplotlib>=3.3.0->ultralytics) (1.4.7)\n",
      "Requirement already satisfied: packaging>=20.0 in /usr/local/lib/python3.10/dist-packages (from matplotlib>=3.3.0->ultralytics) (24.1)\n",
      "Requirement already satisfied: pyparsing>=2.3.1 in /usr/local/lib/python3.10/dist-packages (from matplotlib>=3.3.0->ultralytics) (3.2.0)\n",
      "Requirement already satisfied: python-dateutil>=2.7 in /usr/local/lib/python3.10/dist-packages (from matplotlib>=3.3.0->ultralytics) (2.8.2)\n",
      "Requirement already satisfied: pytz>=2020.1 in /usr/local/lib/python3.10/dist-packages (from pandas>=1.1.4->ultralytics) (2024.2)\n",
      "Requirement already satisfied: tzdata>=2022.7 in /usr/local/lib/python3.10/dist-packages (from pandas>=1.1.4->ultralytics) (2024.2)\n",
      "Requirement already satisfied: charset-normalizer<4,>=2 in /usr/local/lib/python3.10/dist-packages (from requests>=2.23.0->ultralytics) (3.4.0)\n",
      "Requirement already satisfied: idna<4,>=2.5 in /usr/local/lib/python3.10/dist-packages (from requests>=2.23.0->ultralytics) (3.10)\n",
      "Requirement already satisfied: urllib3<3,>=1.21.1 in /usr/local/lib/python3.10/dist-packages (from requests>=2.23.0->ultralytics) (2.2.3)\n",
      "Requirement already satisfied: certifi>=2017.4.17 in /usr/local/lib/python3.10/dist-packages (from requests>=2.23.0->ultralytics) (2024.8.30)\n",
      "Requirement already satisfied: filelock in /usr/local/lib/python3.10/dist-packages (from torch>=1.8.0->ultralytics) (3.16.1)\n",
      "Requirement already satisfied: typing-extensions>=4.8.0 in /usr/local/lib/python3.10/dist-packages (from torch>=1.8.0->ultralytics) (4.12.2)\n",
      "Requirement already satisfied: networkx in /usr/local/lib/python3.10/dist-packages (from torch>=1.8.0->ultralytics) (3.4.2)\n",
      "Requirement already satisfied: jinja2 in /usr/local/lib/python3.10/dist-packages (from torch>=1.8.0->ultralytics) (3.1.4)\n",
      "Requirement already satisfied: fsspec in /usr/local/lib/python3.10/dist-packages (from torch>=1.8.0->ultralytics) (2024.6.1)\n",
      "Requirement already satisfied: sympy==1.13.1 in /usr/local/lib/python3.10/dist-packages (from torch>=1.8.0->ultralytics) (1.13.1)\n",
      "Requirement already satisfied: mpmath<1.4,>=1.1.0 in /usr/local/lib/python3.10/dist-packages (from sympy==1.13.1->torch>=1.8.0->ultralytics) (1.3.0)\n",
      "Requirement already satisfied: six>=1.5 in /usr/local/lib/python3.10/dist-packages (from python-dateutil>=2.7->matplotlib>=3.3.0->ultralytics) (1.16.0)\n",
      "Requirement already satisfied: MarkupSafe>=2.0 in /usr/local/lib/python3.10/dist-packages (from jinja2->torch>=1.8.0->ultralytics) (3.0.2)\n",
      "Downloading ultralytics-8.3.24-py3-none-any.whl (877 kB)\n",
      "\u001b[2K   \u001b[90m━━━━━━━━━━━━━━━━━━━━━━━━━━━━━━━━━━━━━━━━\u001b[0m \u001b[32m877.7/877.7 kB\u001b[0m \u001b[31m15.8 MB/s\u001b[0m eta \u001b[36m0:00:00\u001b[0m\n",
      "\u001b[?25hDownloading ultralytics_thop-2.0.9-py3-none-any.whl (26 kB)\n",
      "Installing collected packages: ultralytics-thop, ultralytics\n",
      "Successfully installed ultralytics-8.3.24 ultralytics-thop-2.0.9\n",
      "Creating new Ultralytics Settings v0.0.6 file ✅ \n",
      "View Ultralytics Settings with 'yolo settings' or at '/root/.config/Ultralytics/settings.json'\n",
      "Update Settings with 'yolo settings key=value', i.e. 'yolo settings runs_dir=path/to/dir'. For help see https://docs.ultralytics.com/quickstart/#ultralytics-settings.\n",
      "Mounted at /content/drive\n"
     ]
    }
   ],
   "source": [
    "# Install the YOLOv8 package (Ultralytics) and dependencies\n",
    "!pip install ultralytics\n",
    "from google.colab import drive\n",
    "from google.colab import files\n",
    "from ultralytics import YOLO\n",
    "\n",
    "import torch\n",
    "import zipfile\n",
    "import os\n",
    "drive.mount('/content/drive')\n",
    "os.chdir('/content/drive/MyDrive/YOLO-MDP/yolov8')"
   ]
  },
  {
   "cell_type": "markdown",
   "metadata": {
    "id": "rub27Yy5THBq"
   },
   "source": [
    "##converting pt file to engin\n"
   ]
  },
  {
   "cell_type": "code",
   "execution_count": null,
   "metadata": {
    "colab": {
     "base_uri": "https://localhost:8080/"
    },
    "id": "bh9IjdUMTF7L",
    "outputId": "6496793c-200b-40fc-c7cc-39382f981286"
   },
   "outputs": [
    {
     "name": "stdout",
     "output_type": "stream",
     "text": [
      "Get:1 https://cloud.r-project.org/bin/linux/ubuntu jammy-cran40/ InRelease [3,626 B]\n",
      "Get:2 https://developer.download.nvidia.com/compute/cuda/repos/ubuntu2204/x86_64  InRelease [1,581 B]\n",
      "Get:3 http://security.ubuntu.com/ubuntu jammy-security InRelease [129 kB]\n",
      "Hit:4 http://archive.ubuntu.com/ubuntu jammy InRelease\n",
      "Ign:5 https://r2u.stat.illinois.edu/ubuntu jammy InRelease\n",
      "Get:6 http://archive.ubuntu.com/ubuntu jammy-updates InRelease [128 kB]\n",
      "Get:7 https://r2u.stat.illinois.edu/ubuntu jammy Release [5,713 B]\n",
      "Get:8 https://r2u.stat.illinois.edu/ubuntu jammy Release.gpg [793 B]\n",
      "Get:9 https://developer.download.nvidia.com/compute/cuda/repos/ubuntu2204/x86_64  Packages [1,074 kB]\n",
      "Hit:10 https://ppa.launchpadcontent.net/deadsnakes/ppa/ubuntu jammy InRelease\n",
      "Hit:11 https://ppa.launchpadcontent.net/graphics-drivers/ppa/ubuntu jammy InRelease\n",
      "Hit:12 https://ppa.launchpadcontent.net/ubuntugis/ppa/ubuntu jammy InRelease\n",
      "Get:13 http://archive.ubuntu.com/ubuntu jammy-backports InRelease [127 kB]\n",
      "Get:14 http://security.ubuntu.com/ubuntu jammy-security/main amd64 Packages [2,377 kB]\n",
      "Get:15 https://r2u.stat.illinois.edu/ubuntu jammy/main all Packages [8,431 kB]\n",
      "Get:16 http://security.ubuntu.com/ubuntu jammy-security/restricted amd64 Packages [3,208 kB]\n",
      "Get:17 http://security.ubuntu.com/ubuntu jammy-security/multiverse amd64 Packages [44.7 kB]\n",
      "Get:18 https://r2u.stat.illinois.edu/ubuntu jammy/main amd64 Packages [2,605 kB]\n",
      "Get:19 http://archive.ubuntu.com/ubuntu jammy-updates/main amd64 Packages [2,654 kB]\n",
      "Get:20 http://archive.ubuntu.com/ubuntu jammy-updates/restricted amd64 Packages [3,286 kB]\n",
      "Get:21 http://archive.ubuntu.com/ubuntu jammy-updates/multiverse amd64 Packages [51.8 kB]\n",
      "Get:22 http://archive.ubuntu.com/ubuntu jammy-updates/universe amd64 Packages [1,450 kB]\n",
      "Fetched 25.6 MB in 5s (4,856 kB/s)\n",
      "Reading package lists... Done\n",
      "W: Skipping acquire of configured file 'main/source/Sources' as repository 'https://r2u.stat.illinois.edu/ubuntu jammy InRelease' does not seem to provide it (sources.list entry misspelt?)\n",
      "Reading package lists... Done\n",
      "Building dependency tree... Done\n",
      "Reading state information... Done\n",
      "The following additional packages will be installed:\n",
      "  libnvinfer-dispatch-dev libnvinfer-dispatch10 libnvinfer-headers-dev\n",
      "  libnvinfer-headers-plugin-dev libnvinfer-lean-dev libnvinfer-lean10 libnvinfer-plugin10\n",
      "  libnvinfer-vc-plugin-dev libnvinfer-vc-plugin10 libnvinfer10 libnvonnxparsers-dev\n",
      "  libnvonnxparsers10 python3-libnvinfer python3-libnvinfer-dispatch python3-libnvinfer-lean\n",
      "The following NEW packages will be installed:\n",
      "  libnvinfer-dev libnvinfer-dispatch-dev libnvinfer-dispatch10 libnvinfer-headers-dev\n",
      "  libnvinfer-headers-plugin-dev libnvinfer-lean-dev libnvinfer-lean10 libnvinfer-plugin-dev\n",
      "  libnvinfer-plugin10 libnvinfer-vc-plugin-dev libnvinfer-vc-plugin10 libnvinfer10\n",
      "  libnvonnxparsers-dev libnvonnxparsers10 python3-libnvinfer python3-libnvinfer-dev\n",
      "  python3-libnvinfer-dispatch python3-libnvinfer-lean\n",
      "0 upgraded, 18 newly installed, 0 to remove and 53 not upgraded.\n",
      "Need to get 2,568 MB of archives.\n",
      "After this operation, 6,841 MB of additional disk space will be used.\n",
      "Get:1 https://developer.download.nvidia.com/compute/cuda/repos/ubuntu2204/x86_64  libnvinfer-headers-dev 10.5.0.18-1+cuda12.6 [104 kB]\n",
      "Get:2 https://developer.download.nvidia.com/compute/cuda/repos/ubuntu2204/x86_64  libnvinfer10 10.5.0.18-1+cuda12.6 [1,254 MB]\n",
      "Get:3 https://developer.download.nvidia.com/compute/cuda/repos/ubuntu2204/x86_64  libnvinfer-dev 10.5.0.18-1+cuda12.6 [1,258 MB]\n",
      "Get:4 https://developer.download.nvidia.com/compute/cuda/repos/ubuntu2204/x86_64  libnvinfer-dispatch10 10.5.0.18-1+cuda12.6 [211 kB]\n",
      "Get:5 https://developer.download.nvidia.com/compute/cuda/repos/ubuntu2204/x86_64  libnvinfer-dispatch-dev 10.5.0.18-1+cuda12.6 [121 kB]\n",
      "Get:6 https://developer.download.nvidia.com/compute/cuda/repos/ubuntu2204/x86_64  libnvinfer-headers-plugin-dev 10.5.0.18-1+cuda12.6 [6,060 B]\n",
      "Get:7 https://developer.download.nvidia.com/compute/cuda/repos/ubuntu2204/x86_64  libnvinfer-lean10 10.5.0.18-1+cuda12.6 [8,279 kB]\n",
      "Get:8 https://developer.download.nvidia.com/compute/cuda/repos/ubuntu2204/x86_64  libnvinfer-lean-dev 10.5.0.18-1+cuda12.6 [21.8 MB]\n",
      "Get:9 https://developer.download.nvidia.com/compute/cuda/repos/ubuntu2204/x86_64  libnvinfer-plugin10 10.5.0.18-1+cuda12.6 [9,484 kB]\n",
      "Get:10 https://developer.download.nvidia.com/compute/cuda/repos/ubuntu2204/x86_64  libnvinfer-plugin-dev 10.5.0.18-1+cuda12.6 [10.8 MB]\n",
      "Get:11 https://developer.download.nvidia.com/compute/cuda/repos/ubuntu2204/x86_64  libnvinfer-vc-plugin10 10.5.0.18-1+cuda12.6 [223 kB]\n",
      "Get:12 https://developer.download.nvidia.com/compute/cuda/repos/ubuntu2204/x86_64  libnvinfer-vc-plugin-dev 10.5.0.18-1+cuda12.6 [80.5 kB]\n",
      "Get:13 https://developer.download.nvidia.com/compute/cuda/repos/ubuntu2204/x86_64  libnvonnxparsers10 10.5.0.18-1+cuda12.6 [1,318 kB]\n",
      "Get:14 https://developer.download.nvidia.com/compute/cuda/repos/ubuntu2204/x86_64  libnvonnxparsers-dev 10.5.0.18-1+cuda12.6 [2,140 kB]\n",
      "Get:15 https://developer.download.nvidia.com/compute/cuda/repos/ubuntu2204/x86_64  python3-libnvinfer 10.5.0.18-1+cuda12.6 [761 kB]\n",
      "Get:16 https://developer.download.nvidia.com/compute/cuda/repos/ubuntu2204/x86_64  python3-libnvinfer-lean 10.5.0.18-1+cuda12.6 [460 kB]\n",
      "Get:17 https://developer.download.nvidia.com/compute/cuda/repos/ubuntu2204/x86_64  python3-libnvinfer-dispatch 10.5.0.18-1+cuda12.6 [461 kB]\n",
      "Get:18 https://developer.download.nvidia.com/compute/cuda/repos/ubuntu2204/x86_64  python3-libnvinfer-dev 10.5.0.18-1+cuda12.6 [2,966 B]\n",
      "Fetched 2,568 MB in 30s (84.3 MB/s)\n",
      "Selecting previously unselected package libnvinfer-headers-dev.\n",
      "(Reading database ... 123622 files and directories currently installed.)\n",
      "Preparing to unpack .../00-libnvinfer-headers-dev_10.5.0.18-1+cuda12.6_amd64.deb ...\n",
      "Unpacking libnvinfer-headers-dev (10.5.0.18-1+cuda12.6) ...\n",
      "Selecting previously unselected package libnvinfer10.\n",
      "Preparing to unpack .../01-libnvinfer10_10.5.0.18-1+cuda12.6_amd64.deb ...\n",
      "Unpacking libnvinfer10 (10.5.0.18-1+cuda12.6) ...\n",
      "Selecting previously unselected package libnvinfer-dev.\n",
      "Preparing to unpack .../02-libnvinfer-dev_10.5.0.18-1+cuda12.6_amd64.deb ...\n",
      "Unpacking libnvinfer-dev (10.5.0.18-1+cuda12.6) ...\n",
      "Selecting previously unselected package libnvinfer-dispatch10.\n",
      "Preparing to unpack .../03-libnvinfer-dispatch10_10.5.0.18-1+cuda12.6_amd64.deb ...\n",
      "Unpacking libnvinfer-dispatch10 (10.5.0.18-1+cuda12.6) ...\n",
      "Selecting previously unselected package libnvinfer-dispatch-dev.\n",
      "Preparing to unpack .../04-libnvinfer-dispatch-dev_10.5.0.18-1+cuda12.6_amd64.deb ...\n",
      "Unpacking libnvinfer-dispatch-dev (10.5.0.18-1+cuda12.6) ...\n",
      "Selecting previously unselected package libnvinfer-headers-plugin-dev.\n",
      "Preparing to unpack .../05-libnvinfer-headers-plugin-dev_10.5.0.18-1+cuda12.6_amd64.deb ...\n",
      "Unpacking libnvinfer-headers-plugin-dev (10.5.0.18-1+cuda12.6) ...\n",
      "Selecting previously unselected package libnvinfer-lean10.\n",
      "Preparing to unpack .../06-libnvinfer-lean10_10.5.0.18-1+cuda12.6_amd64.deb ...\n",
      "Unpacking libnvinfer-lean10 (10.5.0.18-1+cuda12.6) ...\n",
      "Selecting previously unselected package libnvinfer-lean-dev.\n",
      "Preparing to unpack .../07-libnvinfer-lean-dev_10.5.0.18-1+cuda12.6_amd64.deb ...\n",
      "Unpacking libnvinfer-lean-dev (10.5.0.18-1+cuda12.6) ...\n",
      "Selecting previously unselected package libnvinfer-plugin10.\n",
      "Preparing to unpack .../08-libnvinfer-plugin10_10.5.0.18-1+cuda12.6_amd64.deb ...\n",
      "Unpacking libnvinfer-plugin10 (10.5.0.18-1+cuda12.6) ...\n",
      "Selecting previously unselected package libnvinfer-plugin-dev.\n",
      "Preparing to unpack .../09-libnvinfer-plugin-dev_10.5.0.18-1+cuda12.6_amd64.deb ...\n",
      "Unpacking libnvinfer-plugin-dev (10.5.0.18-1+cuda12.6) ...\n",
      "Selecting previously unselected package libnvinfer-vc-plugin10.\n",
      "Preparing to unpack .../10-libnvinfer-vc-plugin10_10.5.0.18-1+cuda12.6_amd64.deb ...\n",
      "Unpacking libnvinfer-vc-plugin10 (10.5.0.18-1+cuda12.6) ...\n",
      "Selecting previously unselected package libnvinfer-vc-plugin-dev.\n",
      "Preparing to unpack .../11-libnvinfer-vc-plugin-dev_10.5.0.18-1+cuda12.6_amd64.deb ...\n",
      "Unpacking libnvinfer-vc-plugin-dev (10.5.0.18-1+cuda12.6) ...\n",
      "Selecting previously unselected package libnvonnxparsers10.\n",
      "Preparing to unpack .../12-libnvonnxparsers10_10.5.0.18-1+cuda12.6_amd64.deb ...\n",
      "Unpacking libnvonnxparsers10 (10.5.0.18-1+cuda12.6) ...\n",
      "Selecting previously unselected package libnvonnxparsers-dev.\n",
      "Preparing to unpack .../13-libnvonnxparsers-dev_10.5.0.18-1+cuda12.6_amd64.deb ...\n",
      "Unpacking libnvonnxparsers-dev (10.5.0.18-1+cuda12.6) ...\n",
      "Selecting previously unselected package python3-libnvinfer.\n",
      "Preparing to unpack .../14-python3-libnvinfer_10.5.0.18-1+cuda12.6_amd64.deb ...\n",
      "Unpacking python3-libnvinfer (10.5.0.18-1+cuda12.6) ...\n",
      "Selecting previously unselected package python3-libnvinfer-lean.\n",
      "Preparing to unpack .../15-python3-libnvinfer-lean_10.5.0.18-1+cuda12.6_amd64.deb ...\n",
      "Unpacking python3-libnvinfer-lean (10.5.0.18-1+cuda12.6) ...\n",
      "Selecting previously unselected package python3-libnvinfer-dispatch.\n",
      "Preparing to unpack .../16-python3-libnvinfer-dispatch_10.5.0.18-1+cuda12.6_amd64.deb ...\n",
      "Unpacking python3-libnvinfer-dispatch (10.5.0.18-1+cuda12.6) ...\n",
      "Selecting previously unselected package python3-libnvinfer-dev.\n",
      "Preparing to unpack .../17-python3-libnvinfer-dev_10.5.0.18-1+cuda12.6_amd64.deb ...\n",
      "Unpacking python3-libnvinfer-dev (10.5.0.18-1+cuda12.6) ...\n",
      "Setting up libnvinfer-headers-dev (10.5.0.18-1+cuda12.6) ...\n",
      "Setting up libnvinfer10 (10.5.0.18-1+cuda12.6) ...\n",
      "Setting up libnvinfer-plugin10 (10.5.0.18-1+cuda12.6) ...\n",
      "Setting up libnvinfer-vc-plugin10 (10.5.0.18-1+cuda12.6) ...\n",
      "Setting up libnvonnxparsers10 (10.5.0.18-1+cuda12.6) ...\n",
      "Setting up libnvinfer-dispatch10 (10.5.0.18-1+cuda12.6) ...\n",
      "Setting up libnvinfer-dispatch-dev (10.5.0.18-1+cuda12.6) ...\n",
      "Setting up libnvinfer-dev (10.5.0.18-1+cuda12.6) ...\n",
      "Setting up libnvinfer-lean10 (10.5.0.18-1+cuda12.6) ...\n",
      "Setting up libnvonnxparsers-dev (10.5.0.18-1+cuda12.6) ...\n",
      "Setting up python3-libnvinfer-dispatch (10.5.0.18-1+cuda12.6) ...\n",
      "Setting up libnvinfer-headers-plugin-dev (10.5.0.18-1+cuda12.6) ...\n",
      "Setting up libnvinfer-lean-dev (10.5.0.18-1+cuda12.6) ...\n",
      "Setting up python3-libnvinfer (10.5.0.18-1+cuda12.6) ...\n",
      "Setting up python3-libnvinfer-lean (10.5.0.18-1+cuda12.6) ...\n",
      "Setting up libnvinfer-plugin-dev (10.5.0.18-1+cuda12.6) ...\n",
      "Setting up libnvinfer-vc-plugin-dev (10.5.0.18-1+cuda12.6) ...\n",
      "Setting up python3-libnvinfer-dev (10.5.0.18-1+cuda12.6) ...\n",
      "Processing triggers for libc-bin (2.35-0ubuntu3.4) ...\n",
      "/sbin/ldconfig.real: /usr/local/lib/libtbbmalloc_proxy.so.2 is not a symbolic link\n",
      "\n",
      "/sbin/ldconfig.real: /usr/local/lib/libur_loader.so.0 is not a symbolic link\n",
      "\n",
      "/sbin/ldconfig.real: /usr/local/lib/libtbbbind_2_5.so.3 is not a symbolic link\n",
      "\n",
      "/sbin/ldconfig.real: /usr/local/lib/libtbbbind_2_0.so.3 is not a symbolic link\n",
      "\n",
      "/sbin/ldconfig.real: /usr/local/lib/libtbb.so.12 is not a symbolic link\n",
      "\n",
      "/sbin/ldconfig.real: /usr/local/lib/libtbbmalloc.so.2 is not a symbolic link\n",
      "\n",
      "/sbin/ldconfig.real: /usr/local/lib/libtbbbind.so.3 is not a symbolic link\n",
      "\n",
      "/sbin/ldconfig.real: /usr/local/lib/libur_adapter_level_zero.so.0 is not a symbolic link\n",
      "\n",
      "/sbin/ldconfig.real: /usr/local/lib/libur_adapter_opencl.so.0 is not a symbolic link\n",
      "\n",
      "Collecting onnx\n",
      "  Downloading onnx-1.17.0-cp310-cp310-manylinux_2_17_x86_64.manylinux2014_x86_64.whl.metadata (16 kB)\n",
      "Collecting onnxruntime-gpu\n",
      "  Downloading onnxruntime_gpu-1.19.2-cp310-cp310-manylinux_2_27_x86_64.manylinux_2_28_x86_64.whl.metadata (4.5 kB)\n",
      "Requirement already satisfied: numpy>=1.20 in /usr/local/lib/python3.10/dist-packages (from onnx) (1.26.4)\n",
      "Requirement already satisfied: protobuf>=3.20.2 in /usr/local/lib/python3.10/dist-packages (from onnx) (3.20.3)\n",
      "Collecting coloredlogs (from onnxruntime-gpu)\n",
      "  Downloading coloredlogs-15.0.1-py2.py3-none-any.whl.metadata (12 kB)\n",
      "Requirement already satisfied: flatbuffers in /usr/local/lib/python3.10/dist-packages (from onnxruntime-gpu) (24.3.25)\n",
      "Requirement already satisfied: packaging in /usr/local/lib/python3.10/dist-packages (from onnxruntime-gpu) (24.1)\n",
      "Requirement already satisfied: sympy in /usr/local/lib/python3.10/dist-packages (from onnxruntime-gpu) (1.13.1)\n",
      "Collecting humanfriendly>=9.1 (from coloredlogs->onnxruntime-gpu)\n",
      "  Downloading humanfriendly-10.0-py2.py3-none-any.whl.metadata (9.2 kB)\n",
      "Requirement already satisfied: mpmath<1.4,>=1.1.0 in /usr/local/lib/python3.10/dist-packages (from sympy->onnxruntime-gpu) (1.3.0)\n",
      "Downloading onnx-1.17.0-cp310-cp310-manylinux_2_17_x86_64.manylinux2014_x86_64.whl (16.0 MB)\n",
      "\u001b[2K   \u001b[90m━━━━━━━━━━━━━━━━━━━━━━━━━━━━━━━━━━━━━━━━\u001b[0m \u001b[32m16.0/16.0 MB\u001b[0m \u001b[31m103.1 MB/s\u001b[0m eta \u001b[36m0:00:00\u001b[0m\n",
      "\u001b[?25hDownloading onnxruntime_gpu-1.19.2-cp310-cp310-manylinux_2_27_x86_64.manylinux_2_28_x86_64.whl (226.2 MB)\n",
      "\u001b[2K   \u001b[90m━━━━━━━━━━━━━━━━━━━━━━━━━━━━━━━━━━━━━━━━\u001b[0m \u001b[32m226.2/226.2 MB\u001b[0m \u001b[31m5.8 MB/s\u001b[0m eta \u001b[36m0:00:00\u001b[0m\n",
      "\u001b[?25hDownloading coloredlogs-15.0.1-py2.py3-none-any.whl (46 kB)\n",
      "\u001b[2K   \u001b[90m━━━━━━━━━━━━━━━━━━━━━━━━━━━━━━━━━━━━━━━━\u001b[0m \u001b[32m46.0/46.0 kB\u001b[0m \u001b[31m3.8 MB/s\u001b[0m eta \u001b[36m0:00:00\u001b[0m\n",
      "\u001b[?25hDownloading humanfriendly-10.0-py2.py3-none-any.whl (86 kB)\n",
      "\u001b[2K   \u001b[90m━━━━━━━━━━━━━━━━━━━━━━━━━━━━━━━━━━━━━━━━\u001b[0m \u001b[32m86.8/86.8 kB\u001b[0m \u001b[31m7.7 MB/s\u001b[0m eta \u001b[36m0:00:00\u001b[0m\n",
      "\u001b[?25hInstalling collected packages: onnx, humanfriendly, coloredlogs, onnxruntime-gpu\n",
      "Successfully installed coloredlogs-15.0.1 humanfriendly-10.0 onnx-1.17.0 onnxruntime-gpu-1.19.2\n",
      "Looking in indexes: https://pypi.ngc.nvidia.com\n",
      "Collecting onnx_graphsurgeon\n",
      "  Downloading https://developer.download.nvidia.com/compute/redist/onnx-graphsurgeon/onnx_graphsurgeon-0.3.27-py2.py3-none-any.whl (42 kB)\n",
      "\u001b[2K     \u001b[90m━━━━━━━━━━━━━━━━━━━━━━━━━━━━━━━━━━━━━━━━\u001b[0m \u001b[32m42.1/42.1 kB\u001b[0m \u001b[31m2.8 MB/s\u001b[0m eta \u001b[36m0:00:00\u001b[0m\n",
      "\u001b[?25hRequirement already satisfied: numpy in /usr/local/lib/python3.10/dist-packages (from onnx_graphsurgeon) (1.26.4)\n",
      "Requirement already satisfied: onnx in /usr/local/lib/python3.10/dist-packages (from onnx_graphsurgeon) (1.17.0)\n",
      "Requirement already satisfied: protobuf>=3.20.2 in /usr/local/lib/python3.10/dist-packages (from onnx->onnx_graphsurgeon) (3.20.3)\n",
      "Installing collected packages: onnx_graphsurgeon\n",
      "Successfully installed onnx_graphsurgeon-0.3.27\n"
     ]
    }
   ],
   "source": [
    "!apt-get update\n",
    "!apt-get install -y python3-libnvinfer-dev libnvinfer-dev libnvinfer-plugin-dev\n",
    "!pip install onnx onnxruntime-gpu\n",
    "!pip install onnx_graphsurgeon --index-url https://pypi.ngc.nvidia.com\n"
   ]
  },
  {
   "cell_type": "code",
   "execution_count": null,
   "metadata": {
    "colab": {
     "base_uri": "https://localhost:8080/",
     "height": 701
    },
    "id": "RkcGoIt9TPMK",
    "outputId": "1366087a-ea91-4108-fdad-a345ea86dc3c"
   },
   "outputs": [
    {
     "name": "stdout",
     "output_type": "stream",
     "text": [
      "Ultralytics 8.3.24 🚀 Python-3.10.12 torch-2.5.0+cu121 CPU (Intel Xeon 2.00GHz)\n",
      "Model summary (fused): 168 layers, 11,125,971 parameters, 0 gradients, 28.4 GFLOPs\n",
      "\n",
      "\u001b[34m\u001b[1mPyTorch:\u001b[0m starting from '/content/drive/MyDrive/YOLO-MDP/yolov8/pt_files/best-5.pt' with input shape (1, 3, 640, 640) BCHW and output shape(s) (1, 5, 8400) (21.5 MB)\n",
      "\u001b[31m\u001b[1mrequirements:\u001b[0m Ultralytics requirements ['onnxslim', 'onnxruntime'] not found, attempting AutoUpdate...\n",
      "Collecting onnxslim\n",
      "  Downloading onnxslim-0.1.36-py3-none-any.whl.metadata (2.9 kB)\n",
      "Collecting onnxruntime\n",
      "  Downloading onnxruntime-1.19.2-cp310-cp310-manylinux_2_27_x86_64.manylinux_2_28_x86_64.whl.metadata (4.5 kB)\n",
      "Requirement already satisfied: onnx in /usr/local/lib/python3.10/dist-packages (from onnxslim) (1.17.0)\n",
      "Requirement already satisfied: sympy in /usr/local/lib/python3.10/dist-packages (from onnxslim) (1.13.1)\n",
      "Requirement already satisfied: packaging in /usr/local/lib/python3.10/dist-packages (from onnxslim) (24.1)\n",
      "Requirement already satisfied: coloredlogs in /usr/local/lib/python3.10/dist-packages (from onnxruntime) (15.0.1)\n",
      "Requirement already satisfied: flatbuffers in /usr/local/lib/python3.10/dist-packages (from onnxruntime) (24.3.25)\n",
      "Requirement already satisfied: numpy>=1.21.6 in /usr/local/lib/python3.10/dist-packages (from onnxruntime) (1.26.4)\n",
      "Requirement already satisfied: protobuf in /usr/local/lib/python3.10/dist-packages (from onnxruntime) (3.20.3)\n",
      "Requirement already satisfied: humanfriendly>=9.1 in /usr/local/lib/python3.10/dist-packages (from coloredlogs->onnxruntime) (10.0)\n",
      "Requirement already satisfied: mpmath<1.4,>=1.1.0 in /usr/local/lib/python3.10/dist-packages (from sympy->onnxslim) (1.3.0)\n",
      "Downloading onnxslim-0.1.36-py3-none-any.whl (140 kB)\n",
      "   ━━━━━━━━━━━━━━━━━━━━━━━━━━━━━━━━━━━━━━━━ 140.6/140.6 kB 6.8 MB/s eta 0:00:00\n",
      "Downloading onnxruntime-1.19.2-cp310-cp310-manylinux_2_27_x86_64.manylinux_2_28_x86_64.whl (13.2 MB)\n",
      "   ━━━━━━━━━━━━━━━━━━━━━━━━━━━━━━━━━━━━━━━━ 13.2/13.2 MB 136.6 MB/s eta 0:00:00\n",
      "Installing collected packages: onnxslim, onnxruntime\n",
      "Successfully installed onnxruntime-1.19.2 onnxslim-0.1.36\n",
      "\n",
      "\u001b[31m\u001b[1mrequirements:\u001b[0m AutoUpdate success ✅ 7.4s, installed 2 packages: ['onnxslim', 'onnxruntime']\n",
      "\u001b[31m\u001b[1mrequirements:\u001b[0m ⚠️ \u001b[1mRestart runtime or rerun command for updates to take effect\u001b[0m\n",
      "\n",
      "\n",
      "\u001b[34m\u001b[1mONNX:\u001b[0m starting export with onnx 1.17.0 opset 19...\n",
      "\u001b[34m\u001b[1mONNX:\u001b[0m slimming with onnxslim 0.1.36...\n",
      "\u001b[34m\u001b[1mONNX:\u001b[0m export success ✅ 9.9s, saved as '/content/drive/MyDrive/YOLO-MDP/yolov8/pt_files/best-5.onnx' (42.7 MB)\n",
      "\n",
      "Export complete (13.6s)\n",
      "Results saved to \u001b[1m/content/drive/MyDrive/YOLO-MDP/yolov8/pt_files\u001b[0m\n",
      "Predict:         yolo predict task=detect model=/content/drive/MyDrive/YOLO-MDP/yolov8/pt_files/best-5.onnx imgsz=640  \n",
      "Validate:        yolo val task=detect model=/content/drive/MyDrive/YOLO-MDP/yolov8/pt_files/best-5.onnx imgsz=640 data=/content/drive/MyDrive/YOLO-MDP/yolov8/augmented_2x_dataset/data.yaml  \n",
      "Visualize:       https://netron.app\n"
     ]
    },
    {
     "data": {
      "application/vnd.google.colaboratory.intrinsic+json": {
       "type": "string"
      },
      "text/plain": [
       "'/content/drive/MyDrive/YOLO-MDP/yolov8/pt_files/best-5.onnx'"
      ]
     },
     "execution_count": 4,
     "metadata": {},
     "output_type": "execute_result"
    }
   ],
   "source": [
    "# from ultralytics import YOLO\n",
    "\n",
    "# Load your YOLOv8 model\n",
    "model = YOLO(\"/content/drive/MyDrive/YOLO-MDP/yolov8/pt_files/best-5.pt\")\n",
    "\n",
    "# Export to ONNX\n",
    "model.export(format=\"onnx\", imgsz=640)  # Change imgsz if needed\n"
   ]
  },
  {
   "cell_type": "code",
   "execution_count": null,
   "metadata": {
    "colab": {
     "base_uri": "https://localhost:8080/"
    },
    "id": "fTdjb_CqTRjp",
    "outputId": "a7eba1bd-f022-474d-aefa-138dac3f6da6"
   },
   "outputs": [
    {
     "name": "stdout",
     "output_type": "stream",
     "text": [
      "/bin/bash: line 1: /usr/src/tensorrt/bin/trtexec: No such file or directory\n"
     ]
    }
   ],
   "source": [
    "!/usr/src/tensorrt/bin/trtexec --onnx=/content/drive/MyDrive/YOLO-MDP/yolov8/pt_files/best-5.onnx --saveEngine=/content/drive/MyDrive/YOLO-MDP/yolov8/pt_files/yolov8s_custom.engine --fp16\n"
   ]
  },
  {
   "cell_type": "code",
   "execution_count": null,
   "metadata": {
    "colab": {
     "base_uri": "https://localhost:8080/"
    },
    "id": "6tOFQAggaKu0",
    "outputId": "a370c700-1cc8-4799-8b63-32c25b698b8f"
   },
   "outputs": [
    {
     "name": "stdout",
     "output_type": "stream",
     "text": [
      "CUDA Available: True\n"
     ]
    }
   ],
   "source": [
    "import torch\n",
    "print(\"CUDA Available:\", torch.cuda.is_available())"
   ]
  },
  {
   "cell_type": "code",
   "execution_count": null,
   "metadata": {
    "colab": {
     "base_uri": "https://localhost:8080/",
     "height": 1000
    },
    "id": "75RIkTGdZtPZ",
    "outputId": "91517323-710d-4b56-db75-dd3927fa9c33"
   },
   "outputs": [
    {
     "name": "stdout",
     "output_type": "stream",
     "text": [
      "WARNING ⚠️ TensorRT requires GPU export, automatically assigning device=0\n",
      "Ultralytics 8.3.24 🚀 Python-3.10.12 torch-2.5.0+cu121 CUDA:0 (Tesla T4, 15102MiB)\n",
      "Model summary (fused): 168 layers, 11,125,971 parameters, 0 gradients, 28.4 GFLOPs\n",
      "\n",
      "\u001b[34m\u001b[1mPyTorch:\u001b[0m starting from '/content/drive/MyDrive/YOLO-MDP/yolov8/pt_files/best-5.pt' with input shape (1, 3, 640, 640) BCHW and output shape(s) (1, 5, 8400) (21.5 MB)\n",
      "\u001b[31m\u001b[1mrequirements:\u001b[0m Ultralytics requirements ['onnx>=1.12.0', 'onnxslim', 'onnxruntime-gpu'] not found, attempting AutoUpdate...\n",
      "Collecting onnx>=1.12.0\n",
      "  Downloading onnx-1.17.0-cp310-cp310-manylinux_2_17_x86_64.manylinux2014_x86_64.whl.metadata (16 kB)\n",
      "Collecting onnxslim\n",
      "  Downloading onnxslim-0.1.36-py3-none-any.whl.metadata (2.9 kB)\n",
      "Collecting onnxruntime-gpu\n",
      "  Downloading onnxruntime_gpu-1.19.2-cp310-cp310-manylinux_2_27_x86_64.manylinux_2_28_x86_64.whl.metadata (4.5 kB)\n",
      "Requirement already satisfied: numpy>=1.20 in /usr/local/lib/python3.10/dist-packages (from onnx>=1.12.0) (1.26.4)\n",
      "Requirement already satisfied: protobuf>=3.20.2 in /usr/local/lib/python3.10/dist-packages (from onnx>=1.12.0) (3.20.3)\n",
      "Requirement already satisfied: sympy in /usr/local/lib/python3.10/dist-packages (from onnxslim) (1.13.1)\n",
      "Requirement already satisfied: packaging in /usr/local/lib/python3.10/dist-packages (from onnxslim) (24.1)\n",
      "Collecting coloredlogs (from onnxruntime-gpu)\n",
      "  Downloading coloredlogs-15.0.1-py2.py3-none-any.whl.metadata (12 kB)\n",
      "Requirement already satisfied: flatbuffers in /usr/local/lib/python3.10/dist-packages (from onnxruntime-gpu) (24.3.25)\n",
      "Collecting humanfriendly>=9.1 (from coloredlogs->onnxruntime-gpu)\n",
      "  Downloading humanfriendly-10.0-py2.py3-none-any.whl.metadata (9.2 kB)\n",
      "Requirement already satisfied: mpmath<1.4,>=1.1.0 in /usr/local/lib/python3.10/dist-packages (from sympy->onnxslim) (1.3.0)\n",
      "Downloading onnx-1.17.0-cp310-cp310-manylinux_2_17_x86_64.manylinux2014_x86_64.whl (16.0 MB)\n",
      "   ━━━━━━━━━━━━━━━━━━━━━━━━━━━━━━━━━━━━━━━━ 16.0/16.0 MB 52.2 MB/s eta 0:00:00\n",
      "Downloading onnxslim-0.1.36-py3-none-any.whl (140 kB)\n",
      "   ━━━━━━━━━━━━━━━━━━━━━━━━━━━━━━━━━━━━━━━━ 140.6/140.6 kB 212.3 MB/s eta 0:00:00\n",
      "Downloading onnxruntime_gpu-1.19.2-cp310-cp310-manylinux_2_27_x86_64.manylinux_2_28_x86_64.whl (226.2 MB)\n",
      "   ━━━━━━━━━━━━━━━━━━━━━━━━━━━━━━━━━━━━━━━━ 226.2/226.2 MB 72.0 MB/s eta 0:00:00\n",
      "Downloading coloredlogs-15.0.1-py2.py3-none-any.whl (46 kB)\n",
      "   ━━━━━━━━━━━━━━━━━━━━━━━━━━━━━━━━━━━━━━━━ 46.0/46.0 kB 182.1 MB/s eta 0:00:00\n",
      "Downloading humanfriendly-10.0-py2.py3-none-any.whl (86 kB)\n",
      "   ━━━━━━━━━━━━━━━━━━━━━━━━━━━━━━━━━━━━━━━━ 86.8/86.8 kB 159.6 MB/s eta 0:00:00\n",
      "Installing collected packages: onnx, humanfriendly, onnxslim, coloredlogs, onnxruntime-gpu\n",
      "Successfully installed coloredlogs-15.0.1 humanfriendly-10.0 onnx-1.17.0 onnxruntime-gpu-1.19.2 onnxslim-0.1.36\n",
      "\n",
      "\u001b[31m\u001b[1mrequirements:\u001b[0m AutoUpdate success ✅ 26.8s, installed 3 packages: ['onnx>=1.12.0', 'onnxslim', 'onnxruntime-gpu']\n",
      "\u001b[31m\u001b[1mrequirements:\u001b[0m ⚠️ \u001b[1mRestart runtime or rerun command for updates to take effect\u001b[0m\n",
      "\n",
      "\n",
      "\u001b[34m\u001b[1mONNX:\u001b[0m starting export with onnx 1.17.0 opset 19...\n",
      "\u001b[34m\u001b[1mONNX:\u001b[0m slimming with onnxslim 0.1.36...\n",
      "\u001b[34m\u001b[1mONNX:\u001b[0m export success ✅ 31.1s, saved as '/content/drive/MyDrive/YOLO-MDP/yolov8/pt_files/best-5.onnx' (42.7 MB)\n",
      "\u001b[31m\u001b[1mrequirements:\u001b[0m Ultralytics requirement ['tensorrt>7.0.0,!=10.1.0'] not found, attempting AutoUpdate...\n",
      "Collecting tensorrt!=10.1.0,>7.0.0\n",
      "  Downloading tensorrt-10.5.0.tar.gz (16 kB)\n",
      "  Preparing metadata (setup.py): started\n",
      "  Preparing metadata (setup.py): finished with status 'done'\n",
      "Collecting tensorrt-cu12==10.5.0 (from tensorrt!=10.1.0,>7.0.0)\n",
      "  Downloading tensorrt-cu12-10.5.0.tar.gz (18 kB)\n",
      "  Preparing metadata (setup.py): started\n",
      "  Preparing metadata (setup.py): finished with status 'done'\n",
      "Building wheels for collected packages: tensorrt, tensorrt-cu12\n",
      "  Building wheel for tensorrt (setup.py): started\n",
      "  Building wheel for tensorrt (setup.py): finished with status 'done'\n",
      "  Created wheel for tensorrt: filename=tensorrt-10.5.0-py2.py3-none-any.whl size=16338 sha256=9d5593cd3d74792383b34cd8bba584825022fba4eb2a3e4421f75b32005530cd\n",
      "  Stored in directory: /tmp/pip-ephem-wheel-cache-v3t8ggw8/wheels/17/93/2c/4db84c8fffd36bab9c54b39b4b886aaaaa1a1ab6d094d28a86\n",
      "  Building wheel for tensorrt-cu12 (setup.py): started\n",
      "  Building wheel for tensorrt-cu12 (setup.py): finished with status 'done'\n",
      "  Created wheel for tensorrt-cu12: filename=tensorrt_cu12-10.5.0-py2.py3-none-any.whl size=17555 sha256=8cf824df7a8aa7d59132f56e069869194be62a3d28459233b27334660d09b4d5\n",
      "  Stored in directory: /tmp/pip-ephem-wheel-cache-v3t8ggw8/wheels/31/83/8a/84edbd0d600c1b334a5ac98e18626a458dc8a70d83d9c5ccbe\n",
      "Successfully built tensorrt tensorrt-cu12\n",
      "Installing collected packages: tensorrt-cu12, tensorrt\n",
      "Successfully installed tensorrt-10.5.0 tensorrt-cu12-10.5.0\n",
      "\n",
      "\u001b[31m\u001b[1mrequirements:\u001b[0m AutoUpdate success ✅ 112.8s, installed 1 package: ['tensorrt>7.0.0,!=10.1.0']\n",
      "\u001b[31m\u001b[1mrequirements:\u001b[0m ⚠️ \u001b[1mRestart runtime or rerun command for updates to take effect\u001b[0m\n",
      "\n",
      "\n",
      "\u001b[34m\u001b[1mTensorRT:\u001b[0m starting export with TensorRT 10.5.0...\n",
      "\u001b[34m\u001b[1mTensorRT:\u001b[0m input \"images\" with shape(1, 3, 640, 640) DataType.FLOAT\n",
      "\u001b[34m\u001b[1mTensorRT:\u001b[0m output \"output0\" with shape(1, 5, 8400) DataType.FLOAT\n",
      "\u001b[34m\u001b[1mTensorRT:\u001b[0m building FP32 engine as /content/drive/MyDrive/YOLO-MDP/yolov8/pt_files/best-5.engine\n",
      "\u001b[34m\u001b[1mTensorRT:\u001b[0m export success ✅ 239.7s, saved as '/content/drive/MyDrive/YOLO-MDP/yolov8/pt_files/best-5.engine' (53.8 MB)\n",
      "\n",
      "Export complete (245.5s)\n",
      "Results saved to \u001b[1m/content/drive/MyDrive/YOLO-MDP/yolov8/pt_files\u001b[0m\n",
      "Predict:         yolo predict task=detect model=/content/drive/MyDrive/YOLO-MDP/yolov8/pt_files/best-5.engine imgsz=640  \n",
      "Validate:        yolo val task=detect model=/content/drive/MyDrive/YOLO-MDP/yolov8/pt_files/best-5.engine imgsz=640 data=/content/drive/MyDrive/YOLO-MDP/yolov8/augmented_2x_dataset/data.yaml  \n",
      "Visualize:       https://netron.app\n"
     ]
    },
    {
     "ename": "FileNotFoundError",
     "evalue": "'yolov8s-best.engine' does not exist",
     "output_type": "error",
     "traceback": [
      "\u001b[0;31m---------------------------------------------------------------------------\u001b[0m",
      "\u001b[0;31mFileNotFoundError\u001b[0m                         Traceback (most recent call last)",
      "\u001b[0;32m<ipython-input-3-e955e5b34ee5>\u001b[0m in \u001b[0;36m<cell line: 10>\u001b[0;34m()\u001b[0m\n\u001b[1;32m      8\u001b[0m \u001b[0;34m\u001b[0m\u001b[0m\n\u001b[1;32m      9\u001b[0m \u001b[0;31m# Load the exported TensorRT model\u001b[0m\u001b[0;34m\u001b[0m\u001b[0;34m\u001b[0m\u001b[0m\n\u001b[0;32m---> 10\u001b[0;31m \u001b[0mtensorrt_model\u001b[0m \u001b[0;34m=\u001b[0m \u001b[0mYOLO\u001b[0m\u001b[0;34m(\u001b[0m\u001b[0;34m\"yolov8s-best.engine\"\u001b[0m\u001b[0;34m)\u001b[0m\u001b[0;34m\u001b[0m\u001b[0;34m\u001b[0m\u001b[0m\n\u001b[0m\u001b[1;32m     11\u001b[0m \u001b[0;34m\u001b[0m\u001b[0m\n\u001b[1;32m     12\u001b[0m \u001b[0;31m# Run inference\u001b[0m\u001b[0;34m\u001b[0m\u001b[0;34m\u001b[0m\u001b[0m\n",
      "\u001b[0;32m/usr/local/lib/python3.10/dist-packages/ultralytics/models/yolo/model.py\u001b[0m in \u001b[0;36m__init__\u001b[0;34m(self, model, task, verbose)\u001b[0m\n\u001b[1;32m     21\u001b[0m         \u001b[0;32melse\u001b[0m\u001b[0;34m:\u001b[0m\u001b[0;34m\u001b[0m\u001b[0;34m\u001b[0m\u001b[0m\n\u001b[1;32m     22\u001b[0m             \u001b[0;31m# Continue with default YOLO initialization\u001b[0m\u001b[0;34m\u001b[0m\u001b[0;34m\u001b[0m\u001b[0m\n\u001b[0;32m---> 23\u001b[0;31m             \u001b[0msuper\u001b[0m\u001b[0;34m(\u001b[0m\u001b[0;34m)\u001b[0m\u001b[0;34m.\u001b[0m\u001b[0m__init__\u001b[0m\u001b[0;34m(\u001b[0m\u001b[0mmodel\u001b[0m\u001b[0;34m=\u001b[0m\u001b[0mmodel\u001b[0m\u001b[0;34m,\u001b[0m \u001b[0mtask\u001b[0m\u001b[0;34m=\u001b[0m\u001b[0mtask\u001b[0m\u001b[0;34m,\u001b[0m \u001b[0mverbose\u001b[0m\u001b[0;34m=\u001b[0m\u001b[0mverbose\u001b[0m\u001b[0;34m)\u001b[0m\u001b[0;34m\u001b[0m\u001b[0;34m\u001b[0m\u001b[0m\n\u001b[0m\u001b[1;32m     24\u001b[0m \u001b[0;34m\u001b[0m\u001b[0m\n\u001b[1;32m     25\u001b[0m     \u001b[0;34m@\u001b[0m\u001b[0mproperty\u001b[0m\u001b[0;34m\u001b[0m\u001b[0;34m\u001b[0m\u001b[0m\n",
      "\u001b[0;32m/usr/local/lib/python3.10/dist-packages/ultralytics/engine/model.py\u001b[0m in \u001b[0;36m__init__\u001b[0;34m(self, model, task, verbose)\u001b[0m\n\u001b[1;32m    143\u001b[0m             \u001b[0mself\u001b[0m\u001b[0;34m.\u001b[0m\u001b[0m_new\u001b[0m\u001b[0;34m(\u001b[0m\u001b[0mmodel\u001b[0m\u001b[0;34m,\u001b[0m \u001b[0mtask\u001b[0m\u001b[0;34m=\u001b[0m\u001b[0mtask\u001b[0m\u001b[0;34m,\u001b[0m \u001b[0mverbose\u001b[0m\u001b[0;34m=\u001b[0m\u001b[0mverbose\u001b[0m\u001b[0;34m)\u001b[0m\u001b[0;34m\u001b[0m\u001b[0;34m\u001b[0m\u001b[0m\n\u001b[1;32m    144\u001b[0m         \u001b[0;32melse\u001b[0m\u001b[0;34m:\u001b[0m\u001b[0;34m\u001b[0m\u001b[0;34m\u001b[0m\u001b[0m\n\u001b[0;32m--> 145\u001b[0;31m             \u001b[0mself\u001b[0m\u001b[0;34m.\u001b[0m\u001b[0m_load\u001b[0m\u001b[0;34m(\u001b[0m\u001b[0mmodel\u001b[0m\u001b[0;34m,\u001b[0m \u001b[0mtask\u001b[0m\u001b[0;34m=\u001b[0m\u001b[0mtask\u001b[0m\u001b[0;34m)\u001b[0m\u001b[0;34m\u001b[0m\u001b[0;34m\u001b[0m\u001b[0m\n\u001b[0m\u001b[1;32m    146\u001b[0m \u001b[0;34m\u001b[0m\u001b[0m\n\u001b[1;32m    147\u001b[0m     def __call__(\n",
      "\u001b[0;32m/usr/local/lib/python3.10/dist-packages/ultralytics/engine/model.py\u001b[0m in \u001b[0;36m_load\u001b[0;34m(self, weights, task)\u001b[0m\n\u001b[1;32m    288\u001b[0m             \u001b[0mself\u001b[0m\u001b[0;34m.\u001b[0m\u001b[0mckpt_path\u001b[0m \u001b[0;34m=\u001b[0m \u001b[0mself\u001b[0m\u001b[0;34m.\u001b[0m\u001b[0mmodel\u001b[0m\u001b[0;34m.\u001b[0m\u001b[0mpt_path\u001b[0m\u001b[0;34m\u001b[0m\u001b[0;34m\u001b[0m\u001b[0m\n\u001b[1;32m    289\u001b[0m         \u001b[0;32melse\u001b[0m\u001b[0;34m:\u001b[0m\u001b[0;34m\u001b[0m\u001b[0;34m\u001b[0m\u001b[0m\n\u001b[0;32m--> 290\u001b[0;31m             \u001b[0mweights\u001b[0m \u001b[0;34m=\u001b[0m \u001b[0mchecks\u001b[0m\u001b[0;34m.\u001b[0m\u001b[0mcheck_file\u001b[0m\u001b[0;34m(\u001b[0m\u001b[0mweights\u001b[0m\u001b[0;34m)\u001b[0m  \u001b[0;31m# runs in all cases, not redundant with above call\u001b[0m\u001b[0;34m\u001b[0m\u001b[0;34m\u001b[0m\u001b[0m\n\u001b[0m\u001b[1;32m    291\u001b[0m             \u001b[0mself\u001b[0m\u001b[0;34m.\u001b[0m\u001b[0mmodel\u001b[0m\u001b[0;34m,\u001b[0m \u001b[0mself\u001b[0m\u001b[0;34m.\u001b[0m\u001b[0mckpt\u001b[0m \u001b[0;34m=\u001b[0m \u001b[0mweights\u001b[0m\u001b[0;34m,\u001b[0m \u001b[0;32mNone\u001b[0m\u001b[0;34m\u001b[0m\u001b[0;34m\u001b[0m\u001b[0m\n\u001b[1;32m    292\u001b[0m             \u001b[0mself\u001b[0m\u001b[0;34m.\u001b[0m\u001b[0mtask\u001b[0m \u001b[0;34m=\u001b[0m \u001b[0mtask\u001b[0m \u001b[0;32mor\u001b[0m \u001b[0mguess_model_task\u001b[0m\u001b[0;34m(\u001b[0m\u001b[0mweights\u001b[0m\u001b[0;34m)\u001b[0m\u001b[0;34m\u001b[0m\u001b[0;34m\u001b[0m\u001b[0m\n",
      "\u001b[0;32m/usr/local/lib/python3.10/dist-packages/ultralytics/utils/checks.py\u001b[0m in \u001b[0;36mcheck_file\u001b[0;34m(file, suffix, download, download_dir, hard)\u001b[0m\n\u001b[1;32m    519\u001b[0m         \u001b[0mfiles\u001b[0m \u001b[0;34m=\u001b[0m \u001b[0mglob\u001b[0m\u001b[0;34m.\u001b[0m\u001b[0mglob\u001b[0m\u001b[0;34m(\u001b[0m\u001b[0mstr\u001b[0m\u001b[0;34m(\u001b[0m\u001b[0mROOT\u001b[0m \u001b[0;34m/\u001b[0m \u001b[0;34m\"**\"\u001b[0m \u001b[0;34m/\u001b[0m \u001b[0mfile\u001b[0m\u001b[0;34m)\u001b[0m\u001b[0;34m,\u001b[0m \u001b[0mrecursive\u001b[0m\u001b[0;34m=\u001b[0m\u001b[0;32mTrue\u001b[0m\u001b[0;34m)\u001b[0m \u001b[0;32mor\u001b[0m \u001b[0mglob\u001b[0m\u001b[0;34m.\u001b[0m\u001b[0mglob\u001b[0m\u001b[0;34m(\u001b[0m\u001b[0mstr\u001b[0m\u001b[0;34m(\u001b[0m\u001b[0mROOT\u001b[0m\u001b[0;34m.\u001b[0m\u001b[0mparent\u001b[0m \u001b[0;34m/\u001b[0m \u001b[0mfile\u001b[0m\u001b[0;34m)\u001b[0m\u001b[0;34m)\u001b[0m  \u001b[0;31m# find file\u001b[0m\u001b[0;34m\u001b[0m\u001b[0;34m\u001b[0m\u001b[0m\n\u001b[1;32m    520\u001b[0m         \u001b[0;32mif\u001b[0m \u001b[0;32mnot\u001b[0m \u001b[0mfiles\u001b[0m \u001b[0;32mand\u001b[0m \u001b[0mhard\u001b[0m\u001b[0;34m:\u001b[0m\u001b[0;34m\u001b[0m\u001b[0;34m\u001b[0m\u001b[0m\n\u001b[0;32m--> 521\u001b[0;31m             \u001b[0;32mraise\u001b[0m \u001b[0mFileNotFoundError\u001b[0m\u001b[0;34m(\u001b[0m\u001b[0;34mf\"'{file}' does not exist\"\u001b[0m\u001b[0;34m)\u001b[0m\u001b[0;34m\u001b[0m\u001b[0;34m\u001b[0m\u001b[0m\n\u001b[0m\u001b[1;32m    522\u001b[0m         \u001b[0;32melif\u001b[0m \u001b[0mlen\u001b[0m\u001b[0;34m(\u001b[0m\u001b[0mfiles\u001b[0m\u001b[0;34m)\u001b[0m \u001b[0;34m>\u001b[0m \u001b[0;36m1\u001b[0m \u001b[0;32mand\u001b[0m \u001b[0mhard\u001b[0m\u001b[0;34m:\u001b[0m\u001b[0;34m\u001b[0m\u001b[0;34m\u001b[0m\u001b[0m\n\u001b[1;32m    523\u001b[0m             \u001b[0;32mraise\u001b[0m \u001b[0mFileNotFoundError\u001b[0m\u001b[0;34m(\u001b[0m\u001b[0;34mf\"Multiple files match '{file}', specify exact path: {files}\"\u001b[0m\u001b[0;34m)\u001b[0m\u001b[0;34m\u001b[0m\u001b[0;34m\u001b[0m\u001b[0m\n",
      "\u001b[0;31mFileNotFoundError\u001b[0m: 'yolov8s-best.engine' does not exist"
     ]
    }
   ],
   "source": [
    "# from ultralytics import YOLO\n",
    "\n",
    "# Load the YOLOv8 model\n",
    "model = YOLO(\"/content/drive/MyDrive/YOLO-MDP/yolov8/pt_files/best-5.pt\")\n",
    "\n",
    "# Export the model to TensorRT format\n",
    "model.export(format=\"engine\")  # creates 'yolov8n.engine'\n",
    "\n"
   ]
  },
  {
   "cell_type": "code",
   "execution_count": null,
   "metadata": {
    "colab": {
     "base_uri": "https://localhost:8080/",
     "height": 295
    },
    "id": "rBZCJeb_btl7",
    "outputId": "ff6dc808-8687-495d-86fe-9209a7a666e1"
   },
   "outputs": [
    {
     "name": "stdout",
     "output_type": "stream",
     "text": [
      "WARNING ⚠️ Unable to automatically guess model task, assuming 'task=detect'. Explicitly define task for your model, i.e. 'task=detect', 'segment', 'classify','pose' or 'obb'.\n",
      "Loading /content/drive/MyDrive/YOLO-MDP/yolov8/pt_files/best-5.engine for TensorRT inference...\n",
      "\n",
      "Found https://ultralytics.com/images/bus.jpg locally at bus.jpg\n",
      "image 1/1 /content/drive/MyDrive/YOLO-MDP/yolov8/bus.jpg: 640x640 5 persons, 14.4ms\n",
      "Speed: 2.9ms preprocess, 14.4ms inference, 1.6ms postprocess per image at shape (1, 3, 640, 640)\n"
     ]
    },
    {
     "ename": "NameError",
     "evalue": "name 'result' is not defined",
     "output_type": "error",
     "traceback": [
      "\u001b[0;31m---------------------------------------------------------------------------\u001b[0m",
      "\u001b[0;31mNameError\u001b[0m                                 Traceback (most recent call last)",
      "\u001b[0;32m<ipython-input-6-1dcc17c4e37f>\u001b[0m in \u001b[0;36m<cell line: 6>\u001b[0;34m()\u001b[0m\n\u001b[1;32m      4\u001b[0m \u001b[0;31m# Run inference\u001b[0m\u001b[0;34m\u001b[0m\u001b[0;34m\u001b[0m\u001b[0m\n\u001b[1;32m      5\u001b[0m \u001b[0mresults\u001b[0m \u001b[0;34m=\u001b[0m \u001b[0mtensorrt_model\u001b[0m\u001b[0;34m(\u001b[0m\u001b[0;34m\"https://ultralytics.com/images/bus.jpg\"\u001b[0m\u001b[0;34m)\u001b[0m\u001b[0;34m\u001b[0m\u001b[0;34m\u001b[0m\u001b[0m\n\u001b[0;32m----> 6\u001b[0;31m \u001b[0mprint\u001b[0m\u001b[0;34m(\u001b[0m\u001b[0mresult\u001b[0m\u001b[0;34m)\u001b[0m\u001b[0;34m\u001b[0m\u001b[0;34m\u001b[0m\u001b[0m\n\u001b[0m",
      "\u001b[0;31mNameError\u001b[0m: name 'result' is not defined"
     ]
    }
   ],
   "source": [
    "# Load the exported TensorRT model\n",
    "tensorrt_model = YOLO(\"/content/drive/MyDrive/YOLO-MDP/yolov8/pt_files/best-5.engine\")\n",
    "\n",
    "# Run inference\n",
    "results = tensorrt_model(\"https://ultralytics.com/images/bus.jpg\")\n",
    "print(result)"
   ]
  },
  {
   "cell_type": "code",
   "execution_count": null,
   "metadata": {
    "colab": {
     "base_uri": "https://localhost:8080/",
     "height": 139
    },
    "id": "1Z2lGz25b_mC",
    "outputId": "1ce91380-b345-429b-e389-f6569a0e4d8c"
   },
   "outputs": [
    {
     "ename": "NameError",
     "evalue": "name 'result' is not defined",
     "output_type": "error",
     "traceback": [
      "\u001b[0;31m---------------------------------------------------------------------------\u001b[0m",
      "\u001b[0;31mNameError\u001b[0m                                 Traceback (most recent call last)",
      "\u001b[0;32m<ipython-input-5-6459d04d738f>\u001b[0m in \u001b[0;36m<cell line: 1>\u001b[0;34m()\u001b[0m\n\u001b[0;32m----> 1\u001b[0;31m \u001b[0mprint\u001b[0m\u001b[0;34m(\u001b[0m\u001b[0mresult\u001b[0m\u001b[0;34m)\u001b[0m\u001b[0;34m\u001b[0m\u001b[0;34m\u001b[0m\u001b[0m\n\u001b[0m",
      "\u001b[0;31mNameError\u001b[0m: name 'result' is not defined"
     ]
    }
   ],
   "source": []
  },
  {
   "cell_type": "code",
   "execution_count": null,
   "metadata": {
    "colab": {
     "base_uri": "https://localhost:8080/"
    },
    "id": "xyI4d4XmXZLZ",
    "outputId": "cc11bfe0-5186-4b00-b2c8-fcdca220a5ef"
   },
   "outputs": [
    {
     "name": "stdout",
     "output_type": "stream",
     "text": [
      "Requirement already satisfied: nvidia-pyindex in /usr/local/lib/python3.10/dist-packages (1.0.9)\n",
      "Requirement already satisfied: nvidia-tensorrt in /usr/local/lib/python3.10/dist-packages (99.0.0)\n",
      "Requirement already satisfied: tensorrt in /usr/lib/python3.10/dist-packages (from nvidia-tensorrt) (10.5.0)\n"
     ]
    }
   ],
   "source": [
    "!pip install nvidia-pyindex\n",
    "!pip install nvidia-tensorrt\n"
   ]
  },
  {
   "cell_type": "code",
   "execution_count": null,
   "metadata": {
    "colab": {
     "base_uri": "https://localhost:8080/",
     "height": 224
    },
    "id": "z0wZX16EXbHo",
    "outputId": "63db8968-1230-4089-e163-998c711be6a4"
   },
   "outputs": [
    {
     "name": "stdout",
     "output_type": "stream",
     "text": [
      "Looking in indexes: https://pypi.ngc.nvidia.com\n",
      "Requirement already satisfied: nvidia-tensorrt in /usr/local/lib/python3.10/dist-packages (99.0.0)\n",
      "Requirement already satisfied: tensorrt in /usr/lib/python3.10/dist-packages (from nvidia-tensorrt) (10.5.0)\n"
     ]
    },
    {
     "ename": "NameError",
     "evalue": "name 'nvidia' is not defined",
     "output_type": "error",
     "traceback": [
      "\u001b[0;31m---------------------------------------------------------------------------\u001b[0m",
      "\u001b[0;31mNameError\u001b[0m                                 Traceback (most recent call last)",
      "\u001b[0;32m<ipython-input-17-2d4174f5703f>\u001b[0m in \u001b[0;36m<cell line: 4>\u001b[0;34m()\u001b[0m\n\u001b[1;32m      2\u001b[0m \u001b[0mget_ipython\u001b[0m\u001b[0;34m(\u001b[0m\u001b[0;34m)\u001b[0m\u001b[0;34m.\u001b[0m\u001b[0mrun_line_magic\u001b[0m\u001b[0;34m(\u001b[0m\u001b[0;34m'pwd'\u001b[0m\u001b[0;34m,\u001b[0m \u001b[0;34m''\u001b[0m\u001b[0;34m)\u001b[0m\u001b[0;34m\u001b[0m\u001b[0;34m\u001b[0m\u001b[0m\n\u001b[1;32m      3\u001b[0m \u001b[0mget_ipython\u001b[0m\u001b[0;34m(\u001b[0m\u001b[0;34m)\u001b[0m\u001b[0;34m.\u001b[0m\u001b[0msystem\u001b[0m\u001b[0;34m(\u001b[0m\u001b[0;34m'pip install --upgrade --index-url https://pypi.ngc.nvidia.com nvidia-tensorrt'\u001b[0m\u001b[0;34m)\u001b[0m\u001b[0;34m\u001b[0m\u001b[0;34m\u001b[0m\u001b[0m\n\u001b[0;32m----> 4\u001b[0;31m \u001b[0mnvidia\u001b[0m\u001b[0;34m-\u001b[0m\u001b[0mtensorrt\u001b[0m\u001b[0;34m.\u001b[0m\u001b[0m__version__\u001b[0m\u001b[0;34m\u001b[0m\u001b[0;34m\u001b[0m\u001b[0m\n\u001b[0m",
      "\u001b[0;31mNameError\u001b[0m: name 'nvidia' is not defined"
     ]
    }
   ],
   "source": [
    "\n",
    "# %cd /content/drive/MyDrive/YOLO-MDP/yolov8/\n",
    "%pwd\n",
    "!pip install --upgrade --index-url https://pypi.ngc.nvidia.com nvidia-tensorrt"
   ]
  },
  {
   "cell_type": "code",
   "execution_count": null,
   "metadata": {
    "colab": {
     "base_uri": "https://localhost:8080/",
     "height": 327
    },
    "id": "9eSi3TNiY3gc",
    "outputId": "40e76de0-2acc-4f43-9de4-2d1c148752be"
   },
   "outputs": [
    {
     "ename": "ModuleNotFoundError",
     "errorDetails": {
      "actions": [
       {
        "action": "open_url",
        "actionText": "Open Examples",
        "url": "/notebooks/snippets/importing_libraries.ipynb"
       }
      ]
     },
     "evalue": "No module named 'tensorrt'",
     "output_type": "error",
     "traceback": [
      "\u001b[0;31m---------------------------------------------------------------------------\u001b[0m",
      "\u001b[0;31mModuleNotFoundError\u001b[0m                       Traceback (most recent call last)",
      "\u001b[0;32m<ipython-input-19-6409d100f30b>\u001b[0m in \u001b[0;36m<cell line: 1>\u001b[0;34m()\u001b[0m\n\u001b[0;32m----> 1\u001b[0;31m \u001b[0;32mimport\u001b[0m \u001b[0mtensorrt\u001b[0m\u001b[0;34m\u001b[0m\u001b[0;34m\u001b[0m\u001b[0m\n\u001b[0m\u001b[1;32m      2\u001b[0m \u001b[0mprint\u001b[0m\u001b[0;34m(\u001b[0m\u001b[0mtensorrt\u001b[0m\u001b[0;34m.\u001b[0m\u001b[0m__version__\u001b[0m\u001b[0;34m)\u001b[0m\u001b[0;34m\u001b[0m\u001b[0;34m\u001b[0m\u001b[0m\n",
      "\u001b[0;31mModuleNotFoundError\u001b[0m: No module named 'tensorrt'",
      "",
      "\u001b[0;31m---------------------------------------------------------------------------\u001b[0;32m\nNOTE: If your import is failing due to a missing package, you can\nmanually install dependencies using either !pip or !apt.\n\nTo view examples of installing some common dependencies, click the\n\"Open Examples\" button below.\n\u001b[0;31m---------------------------------------------------------------------------\u001b[0m\n"
     ]
    }
   ],
   "source": [
    "import tensorrt\n",
    ">>> print(tensorrt.__version__)"
   ]
  },
  {
   "cell_type": "code",
   "execution_count": null,
   "metadata": {
    "colab": {
     "base_uri": "https://localhost:8080/",
     "height": 207
    },
    "id": "cetsfI23XYUd",
    "outputId": "2ace977a-8084-4a05-94cf-58ca41531823"
   },
   "outputs": [
    {
     "ename": "NameError",
     "evalue": "name 'trt' is not defined",
     "output_type": "error",
     "traceback": [
      "\u001b[0;31m---------------------------------------------------------------------------\u001b[0m",
      "\u001b[0;31mNameError\u001b[0m                                 Traceback (most recent call last)",
      "\u001b[0;32m<ipython-input-18-1aff10297e77>\u001b[0m in \u001b[0;36m<cell line: 4>\u001b[0;34m()\u001b[0m\n\u001b[1;32m      2\u001b[0m \u001b[0;32mimport\u001b[0m \u001b[0mos\u001b[0m\u001b[0;34m\u001b[0m\u001b[0;34m\u001b[0m\u001b[0m\n\u001b[1;32m      3\u001b[0m \u001b[0;34m\u001b[0m\u001b[0m\n\u001b[0;32m----> 4\u001b[0;31m \u001b[0mTRT_LOGGER\u001b[0m \u001b[0;34m=\u001b[0m \u001b[0mtrt\u001b[0m\u001b[0;34m.\u001b[0m\u001b[0mLogger\u001b[0m\u001b[0;34m(\u001b[0m\u001b[0mtrt\u001b[0m\u001b[0;34m.\u001b[0m\u001b[0mLogger\u001b[0m\u001b[0;34m.\u001b[0m\u001b[0mWARNING\u001b[0m\u001b[0;34m)\u001b[0m\u001b[0;34m\u001b[0m\u001b[0;34m\u001b[0m\u001b[0m\n\u001b[0m\u001b[1;32m      5\u001b[0m \u001b[0;34m\u001b[0m\u001b[0m\n\u001b[1;32m      6\u001b[0m \u001b[0;32mdef\u001b[0m \u001b[0mbuild_engine\u001b[0m\u001b[0;34m(\u001b[0m\u001b[0monnx_file_path\u001b[0m\u001b[0;34m,\u001b[0m \u001b[0mengine_file_path\u001b[0m\u001b[0;34m)\u001b[0m\u001b[0;34m:\u001b[0m\u001b[0;34m\u001b[0m\u001b[0;34m\u001b[0m\u001b[0m\n",
      "\u001b[0;31mNameError\u001b[0m: name 'trt' is not defined"
     ]
    }
   ],
   "source": [
    "# import tensorrt as trt\n",
    "import os\n",
    "\n",
    "TRT_LOGGER = trt.Logger(trt.Logger.WARNING)\n",
    "\n",
    "def build_engine(onnx_file_path, engine_file_path):\n",
    "    with trt.Builder(TRT_LOGGER) as builder, builder.create_network() as network, trt.OnnxParser(network, TRT_LOGGER) as parser:\n",
    "        builder.max_workspace_size = 1 << 30  # Set workspace size (1 GB here)\n",
    "        builder.fp16_mode = True  # Enable FP16 if your GPU supports it\n",
    "        with open(onnx_file_path, \"rb\") as model:\n",
    "            parser.parse(model.read())\n",
    "        engine = builder.build_cuda_engine(network)\n",
    "        with open(engine_file_path, \"wb\") as f:\n",
    "            f.write(engine.serialize())\n",
    "\n",
    "# Paths to your ONNX model and output engine file\n",
    "onnx_file_path = '/content/drive/MyDrive/YOLO-MDP/yolov8/pt_files/best-5.onnx'\n",
    "engine_file_path = '/content/drive/MyDrive/YOLO-MDP/yolov8/pt_files/best-5.engine'\n",
    "\n",
    "build_engine(onnx_file_path, engine_file_path)\n"
   ]
  },
  {
   "cell_type": "code",
   "execution_count": null,
   "metadata": {
    "colab": {
     "base_uri": "https://localhost:8080/"
    },
    "id": "-v9IB-bHB94M",
    "outputId": "9c604f99-f989-453e-fe4b-da9125542ce8"
   },
   "outputs": [
    {
     "name": "stdout",
     "output_type": "stream",
     "text": [
      "Collecting ultralytics\n",
      "  Downloading ultralytics-8.3.24-py3-none-any.whl.metadata (35 kB)\n",
      "Requirement already satisfied: numpy>=1.23.0 in /usr/local/lib/python3.10/dist-packages (from ultralytics) (1.26.4)\n",
      "Requirement already satisfied: matplotlib>=3.3.0 in /usr/local/lib/python3.10/dist-packages (from ultralytics) (3.7.1)\n",
      "Requirement already satisfied: opencv-python>=4.6.0 in /usr/local/lib/python3.10/dist-packages (from ultralytics) (4.10.0.84)\n",
      "Requirement already satisfied: pillow>=7.1.2 in /usr/local/lib/python3.10/dist-packages (from ultralytics) (10.4.0)\n",
      "Requirement already satisfied: pyyaml>=5.3.1 in /usr/local/lib/python3.10/dist-packages (from ultralytics) (6.0.2)\n",
      "Requirement already satisfied: requests>=2.23.0 in /usr/local/lib/python3.10/dist-packages (from ultralytics) (2.32.3)\n",
      "Requirement already satisfied: scipy>=1.4.1 in /usr/local/lib/python3.10/dist-packages (from ultralytics) (1.13.1)\n",
      "Requirement already satisfied: torch>=1.8.0 in /usr/local/lib/python3.10/dist-packages (from ultralytics) (2.5.0+cu121)\n",
      "Requirement already satisfied: torchvision>=0.9.0 in /usr/local/lib/python3.10/dist-packages (from ultralytics) (0.20.0+cu121)\n",
      "Requirement already satisfied: tqdm>=4.64.0 in /usr/local/lib/python3.10/dist-packages (from ultralytics) (4.66.5)\n",
      "Requirement already satisfied: psutil in /usr/local/lib/python3.10/dist-packages (from ultralytics) (5.9.5)\n",
      "Requirement already satisfied: py-cpuinfo in /usr/local/lib/python3.10/dist-packages (from ultralytics) (9.0.0)\n",
      "Requirement already satisfied: pandas>=1.1.4 in /usr/local/lib/python3.10/dist-packages (from ultralytics) (2.2.2)\n",
      "Requirement already satisfied: seaborn>=0.11.0 in /usr/local/lib/python3.10/dist-packages (from ultralytics) (0.13.2)\n",
      "Collecting ultralytics-thop>=2.0.0 (from ultralytics)\n",
      "  Downloading ultralytics_thop-2.0.9-py3-none-any.whl.metadata (9.3 kB)\n",
      "Requirement already satisfied: contourpy>=1.0.1 in /usr/local/lib/python3.10/dist-packages (from matplotlib>=3.3.0->ultralytics) (1.3.0)\n",
      "Requirement already satisfied: cycler>=0.10 in /usr/local/lib/python3.10/dist-packages (from matplotlib>=3.3.0->ultralytics) (0.12.1)\n",
      "Requirement already satisfied: fonttools>=4.22.0 in /usr/local/lib/python3.10/dist-packages (from matplotlib>=3.3.0->ultralytics) (4.54.1)\n",
      "Requirement already satisfied: kiwisolver>=1.0.1 in /usr/local/lib/python3.10/dist-packages (from matplotlib>=3.3.0->ultralytics) (1.4.7)\n",
      "Requirement already satisfied: packaging>=20.0 in /usr/local/lib/python3.10/dist-packages (from matplotlib>=3.3.0->ultralytics) (24.1)\n",
      "Requirement already satisfied: pyparsing>=2.3.1 in /usr/local/lib/python3.10/dist-packages (from matplotlib>=3.3.0->ultralytics) (3.2.0)\n",
      "Requirement already satisfied: python-dateutil>=2.7 in /usr/local/lib/python3.10/dist-packages (from matplotlib>=3.3.0->ultralytics) (2.8.2)\n",
      "Requirement already satisfied: pytz>=2020.1 in /usr/local/lib/python3.10/dist-packages (from pandas>=1.1.4->ultralytics) (2024.2)\n",
      "Requirement already satisfied: tzdata>=2022.7 in /usr/local/lib/python3.10/dist-packages (from pandas>=1.1.4->ultralytics) (2024.2)\n",
      "Requirement already satisfied: charset-normalizer<4,>=2 in /usr/local/lib/python3.10/dist-packages (from requests>=2.23.0->ultralytics) (3.4.0)\n",
      "Requirement already satisfied: idna<4,>=2.5 in /usr/local/lib/python3.10/dist-packages (from requests>=2.23.0->ultralytics) (3.10)\n",
      "Requirement already satisfied: urllib3<3,>=1.21.1 in /usr/local/lib/python3.10/dist-packages (from requests>=2.23.0->ultralytics) (2.2.3)\n",
      "Requirement already satisfied: certifi>=2017.4.17 in /usr/local/lib/python3.10/dist-packages (from requests>=2.23.0->ultralytics) (2024.8.30)\n",
      "Requirement already satisfied: filelock in /usr/local/lib/python3.10/dist-packages (from torch>=1.8.0->ultralytics) (3.16.1)\n",
      "Requirement already satisfied: typing-extensions>=4.8.0 in /usr/local/lib/python3.10/dist-packages (from torch>=1.8.0->ultralytics) (4.12.2)\n",
      "Requirement already satisfied: networkx in /usr/local/lib/python3.10/dist-packages (from torch>=1.8.0->ultralytics) (3.4.2)\n",
      "Requirement already satisfied: jinja2 in /usr/local/lib/python3.10/dist-packages (from torch>=1.8.0->ultralytics) (3.1.4)\n",
      "Requirement already satisfied: fsspec in /usr/local/lib/python3.10/dist-packages (from torch>=1.8.0->ultralytics) (2024.6.1)\n",
      "Requirement already satisfied: sympy==1.13.1 in /usr/local/lib/python3.10/dist-packages (from torch>=1.8.0->ultralytics) (1.13.1)\n",
      "Requirement already satisfied: mpmath<1.4,>=1.1.0 in /usr/local/lib/python3.10/dist-packages (from sympy==1.13.1->torch>=1.8.0->ultralytics) (1.3.0)\n",
      "Requirement already satisfied: six>=1.5 in /usr/local/lib/python3.10/dist-packages (from python-dateutil>=2.7->matplotlib>=3.3.0->ultralytics) (1.16.0)\n",
      "Requirement already satisfied: MarkupSafe>=2.0 in /usr/local/lib/python3.10/dist-packages (from jinja2->torch>=1.8.0->ultralytics) (3.0.2)\n",
      "Downloading ultralytics-8.3.24-py3-none-any.whl (877 kB)\n",
      "\u001b[2K   \u001b[90m━━━━━━━━━━━━━━━━━━━━━━━━━━━━━━━━━━━━━━━━\u001b[0m \u001b[32m877.7/877.7 kB\u001b[0m \u001b[31m17.9 MB/s\u001b[0m eta \u001b[36m0:00:00\u001b[0m\n",
      "\u001b[?25hDownloading ultralytics_thop-2.0.9-py3-none-any.whl (26 kB)\n",
      "Installing collected packages: ultralytics-thop, ultralytics\n",
      "Successfully installed ultralytics-8.3.24 ultralytics-thop-2.0.9\n"
     ]
    }
   ],
   "source": [
    "# Install the YOLOv8 package (Ultralytics) and dependencies\n",
    "!pip install ultralytics"
   ]
  },
  {
   "cell_type": "code",
   "execution_count": 2,
   "metadata": {
    "id": "RJEbGSOjTEvT"
   },
   "outputs": [
    {
     "name": "stdout",
     "output_type": "stream",
     "text": [
      "Requirement already satisfied: hydra-core>=1.2.0 in c:\\users\\dt800\\documents\\init\\lib\\site-packages (from -r requirements.txt (line 5)) (1.3.2)\n",
      "Requirement already satisfied: matplotlib>=3.2.2 in c:\\users\\dt800\\documents\\init\\lib\\site-packages (from -r requirements.txt (line 6)) (3.9.2)\n",
      "Requirement already satisfied: numpy>=1.18.5 in c:\\users\\dt800\\documents\\init\\lib\\site-packages (from -r requirements.txt (line 7)) (2.1.3)\n",
      "Requirement already satisfied: opencv-python>=4.1.1 in c:\\users\\dt800\\documents\\init\\lib\\site-packages (from -r requirements.txt (line 8)) (4.10.0.84)\n",
      "Requirement already satisfied: Pillow>=7.1.2 in c:\\users\\dt800\\documents\\init\\lib\\site-packages (from -r requirements.txt (line 9)) (11.0.0)\n",
      "Requirement already satisfied: PyYAML>=5.3.1 in c:\\users\\dt800\\documents\\init\\lib\\site-packages (from -r requirements.txt (line 10)) (6.0.2)\n",
      "Requirement already satisfied: requests>=2.23.0 in c:\\users\\dt800\\documents\\init\\lib\\site-packages (from -r requirements.txt (line 11)) (2.32.3)\n",
      "Requirement already satisfied: scipy>=1.4.1 in c:\\users\\dt800\\documents\\init\\lib\\site-packages (from -r requirements.txt (line 12)) (1.14.1)\n",
      "Requirement already satisfied: torch>=1.7.0 in c:\\users\\dt800\\documents\\init\\lib\\site-packages (from -r requirements.txt (line 13)) (2.5.1)\n",
      "Requirement already satisfied: torchvision>=0.8.1 in c:\\users\\dt800\\documents\\init\\lib\\site-packages (from -r requirements.txt (line 14)) (0.20.1)\n",
      "Requirement already satisfied: tqdm>=4.64.0 in c:\\users\\dt800\\documents\\init\\lib\\site-packages (from -r requirements.txt (line 15)) (4.67.0)\n",
      "Requirement already satisfied: tensorboard>=2.4.1 in c:\\users\\dt800\\documents\\init\\lib\\site-packages (from -r requirements.txt (line 18)) (2.18.0)\n",
      "Requirement already satisfied: pandas>=1.1.4 in c:\\users\\dt800\\documents\\init\\lib\\site-packages (from -r requirements.txt (line 23)) (2.2.3)\n",
      "Requirement already satisfied: seaborn>=0.11.0 in c:\\users\\dt800\\documents\\init\\lib\\site-packages (from -r requirements.txt (line 24)) (0.13.2)\n",
      "Requirement already satisfied: ipython in c:\\users\\dt800\\documents\\init\\lib\\site-packages (from -r requirements.txt (line 38)) (8.29.0)\n",
      "Requirement already satisfied: psutil in c:\\users\\dt800\\documents\\init\\lib\\site-packages (from -r requirements.txt (line 39)) (6.1.0)\n",
      "Requirement already satisfied: thop>=0.1.1 in c:\\users\\dt800\\documents\\init\\lib\\site-packages (from -r requirements.txt (line 40)) (0.1.1.post2209072238)\n",
      "Requirement already satisfied: GitPython>=3.1.24 in c:\\users\\dt800\\documents\\init\\lib\\site-packages (from -r requirements.txt (line 46)) (3.1.43)\n",
      "Requirement already satisfied: omegaconf<2.4,>=2.2 in c:\\users\\dt800\\documents\\init\\lib\\site-packages (from hydra-core>=1.2.0->-r requirements.txt (line 5)) (2.3.0)\n",
      "Requirement already satisfied: antlr4-python3-runtime==4.9.* in c:\\users\\dt800\\documents\\init\\lib\\site-packages (from hydra-core>=1.2.0->-r requirements.txt (line 5)) (4.9.3)\n",
      "Requirement already satisfied: packaging in c:\\users\\dt800\\documents\\init\\lib\\site-packages (from hydra-core>=1.2.0->-r requirements.txt (line 5)) (24.2)\n",
      "Requirement already satisfied: contourpy>=1.0.1 in c:\\users\\dt800\\documents\\init\\lib\\site-packages (from matplotlib>=3.2.2->-r requirements.txt (line 6)) (1.3.1)\n",
      "Requirement already satisfied: cycler>=0.10 in c:\\users\\dt800\\documents\\init\\lib\\site-packages (from matplotlib>=3.2.2->-r requirements.txt (line 6)) (0.12.1)\n",
      "Requirement already satisfied: fonttools>=4.22.0 in c:\\users\\dt800\\documents\\init\\lib\\site-packages (from matplotlib>=3.2.2->-r requirements.txt (line 6)) (4.54.1)\n",
      "Requirement already satisfied: kiwisolver>=1.3.1 in c:\\users\\dt800\\documents\\init\\lib\\site-packages (from matplotlib>=3.2.2->-r requirements.txt (line 6)) (1.4.7)\n",
      "Requirement already satisfied: pyparsing>=2.3.1 in c:\\users\\dt800\\documents\\init\\lib\\site-packages (from matplotlib>=3.2.2->-r requirements.txt (line 6)) (3.2.0)\n",
      "Requirement already satisfied: python-dateutil>=2.7 in c:\\users\\dt800\\documents\\init\\lib\\site-packages (from matplotlib>=3.2.2->-r requirements.txt (line 6)) (2.9.0.post0)\n",
      "Requirement already satisfied: charset-normalizer<4,>=2 in c:\\users\\dt800\\documents\\init\\lib\\site-packages (from requests>=2.23.0->-r requirements.txt (line 11)) (3.4.0)\n",
      "Requirement already satisfied: idna<4,>=2.5 in c:\\users\\dt800\\documents\\init\\lib\\site-packages (from requests>=2.23.0->-r requirements.txt (line 11)) (3.10)\n",
      "Requirement already satisfied: urllib3<3,>=1.21.1 in c:\\users\\dt800\\documents\\init\\lib\\site-packages (from requests>=2.23.0->-r requirements.txt (line 11)) (2.2.3)\n",
      "Requirement already satisfied: certifi>=2017.4.17 in c:\\users\\dt800\\documents\\init\\lib\\site-packages (from requests>=2.23.0->-r requirements.txt (line 11)) (2024.8.30)\n",
      "Requirement already satisfied: filelock in c:\\users\\dt800\\documents\\init\\lib\\site-packages (from torch>=1.7.0->-r requirements.txt (line 13)) (3.16.1)\n",
      "Requirement already satisfied: typing-extensions>=4.8.0 in c:\\users\\dt800\\documents\\init\\lib\\site-packages (from torch>=1.7.0->-r requirements.txt (line 13)) (4.12.2)\n",
      "Requirement already satisfied: networkx in c:\\users\\dt800\\documents\\init\\lib\\site-packages (from torch>=1.7.0->-r requirements.txt (line 13)) (3.4.2)\n",
      "Requirement already satisfied: jinja2 in c:\\users\\dt800\\documents\\init\\lib\\site-packages (from torch>=1.7.0->-r requirements.txt (line 13)) (3.1.4)\n",
      "Requirement already satisfied: fsspec in c:\\users\\dt800\\documents\\init\\lib\\site-packages (from torch>=1.7.0->-r requirements.txt (line 13)) (2024.10.0)\n",
      "Requirement already satisfied: setuptools in c:\\users\\dt800\\documents\\init\\lib\\site-packages (from torch>=1.7.0->-r requirements.txt (line 13)) (75.5.0)\n",
      "Requirement already satisfied: sympy==1.13.1 in c:\\users\\dt800\\documents\\init\\lib\\site-packages (from torch>=1.7.0->-r requirements.txt (line 13)) (1.13.1)\n",
      "Requirement already satisfied: mpmath<1.4,>=1.1.0 in c:\\users\\dt800\\documents\\init\\lib\\site-packages (from sympy==1.13.1->torch>=1.7.0->-r requirements.txt (line 13)) (1.3.0)\n",
      "Requirement already satisfied: colorama in c:\\users\\dt800\\documents\\init\\lib\\site-packages (from tqdm>=4.64.0->-r requirements.txt (line 15)) (0.4.6)\n",
      "Requirement already satisfied: absl-py>=0.4 in c:\\users\\dt800\\documents\\init\\lib\\site-packages (from tensorboard>=2.4.1->-r requirements.txt (line 18)) (2.1.0)\n",
      "Requirement already satisfied: grpcio>=1.48.2 in c:\\users\\dt800\\documents\\init\\lib\\site-packages (from tensorboard>=2.4.1->-r requirements.txt (line 18)) (1.67.1)\n",
      "Requirement already satisfied: markdown>=2.6.8 in c:\\users\\dt800\\documents\\init\\lib\\site-packages (from tensorboard>=2.4.1->-r requirements.txt (line 18)) (3.7)\n",
      "Requirement already satisfied: protobuf!=4.24.0,>=3.19.6 in c:\\users\\dt800\\documents\\init\\lib\\site-packages (from tensorboard>=2.4.1->-r requirements.txt (line 18)) (5.28.3)\n",
      "Requirement already satisfied: six>1.9 in c:\\users\\dt800\\documents\\init\\lib\\site-packages (from tensorboard>=2.4.1->-r requirements.txt (line 18)) (1.16.0)\n",
      "Requirement already satisfied: tensorboard-data-server<0.8.0,>=0.7.0 in c:\\users\\dt800\\documents\\init\\lib\\site-packages (from tensorboard>=2.4.1->-r requirements.txt (line 18)) (0.7.2)\n",
      "Requirement already satisfied: werkzeug>=1.0.1 in c:\\users\\dt800\\documents\\init\\lib\\site-packages (from tensorboard>=2.4.1->-r requirements.txt (line 18)) (3.1.3)\n",
      "Requirement already satisfied: pytz>=2020.1 in c:\\users\\dt800\\documents\\init\\lib\\site-packages (from pandas>=1.1.4->-r requirements.txt (line 23)) (2024.2)\n",
      "Requirement already satisfied: tzdata>=2022.7 in c:\\users\\dt800\\documents\\init\\lib\\site-packages (from pandas>=1.1.4->-r requirements.txt (line 23)) (2024.2)\n",
      "Requirement already satisfied: decorator in c:\\users\\dt800\\documents\\init\\lib\\site-packages (from ipython->-r requirements.txt (line 38)) (5.1.1)\n",
      "Requirement already satisfied: jedi>=0.16 in c:\\users\\dt800\\documents\\init\\lib\\site-packages (from ipython->-r requirements.txt (line 38)) (0.19.2)\n",
      "Requirement already satisfied: matplotlib-inline in c:\\users\\dt800\\documents\\init\\lib\\site-packages (from ipython->-r requirements.txt (line 38)) (0.1.7)\n",
      "Requirement already satisfied: prompt-toolkit<3.1.0,>=3.0.41 in c:\\users\\dt800\\documents\\init\\lib\\site-packages (from ipython->-r requirements.txt (line 38)) (3.0.48)\n",
      "Requirement already satisfied: pygments>=2.4.0 in c:\\users\\dt800\\documents\\init\\lib\\site-packages (from ipython->-r requirements.txt (line 38)) (2.18.0)\n",
      "Requirement already satisfied: stack-data in c:\\users\\dt800\\documents\\init\\lib\\site-packages (from ipython->-r requirements.txt (line 38)) (0.6.3)\n",
      "Requirement already satisfied: traitlets>=5.13.0 in c:\\users\\dt800\\documents\\init\\lib\\site-packages (from ipython->-r requirements.txt (line 38)) (5.14.3)\n",
      "Requirement already satisfied: gitdb<5,>=4.0.1 in c:\\users\\dt800\\documents\\init\\lib\\site-packages (from GitPython>=3.1.24->-r requirements.txt (line 46)) (4.0.11)\n",
      "Requirement already satisfied: smmap<6,>=3.0.1 in c:\\users\\dt800\\documents\\init\\lib\\site-packages (from gitdb<5,>=4.0.1->GitPython>=3.1.24->-r requirements.txt (line 46)) (5.0.1)\n",
      "Requirement already satisfied: parso<0.9.0,>=0.8.4 in c:\\users\\dt800\\documents\\init\\lib\\site-packages (from jedi>=0.16->ipython->-r requirements.txt (line 38)) (0.8.4)\n",
      "Requirement already satisfied: wcwidth in c:\\users\\dt800\\documents\\init\\lib\\site-packages (from prompt-toolkit<3.1.0,>=3.0.41->ipython->-r requirements.txt (line 38)) (0.2.13)\n",
      "Requirement already satisfied: MarkupSafe>=2.1.1 in c:\\users\\dt800\\documents\\init\\lib\\site-packages (from werkzeug>=1.0.1->tensorboard>=2.4.1->-r requirements.txt (line 18)) (3.0.2)\n",
      "Requirement already satisfied: executing>=1.2.0 in c:\\users\\dt800\\documents\\init\\lib\\site-packages (from stack-data->ipython->-r requirements.txt (line 38)) (2.1.0)\n",
      "Requirement already satisfied: asttokens>=2.1.0 in c:\\users\\dt800\\documents\\init\\lib\\site-packages (from stack-data->ipython->-r requirements.txt (line 38)) (2.4.1)\n",
      "Requirement already satisfied: pure-eval in c:\\users\\dt800\\documents\\init\\lib\\site-packages (from stack-data->ipython->-r requirements.txt (line 38)) (0.2.3)\n"
     ]
    },
    {
     "name": "stderr",
     "output_type": "stream",
     "text": [
      "\n",
      "[notice] A new release of pip is available: 23.2.1 -> 24.3.1\n",
      "[notice] To update, run: python.exe -m pip install --upgrade pip\n"
     ]
    }
   ],
   "source": [
    "!pip install -r requirements.txt"
   ]
  },
  {
   "cell_type": "markdown",
   "metadata": {
    "id": "8xXTo1jfaEIi"
   },
   "source": [
    "## training"
   ]
  },
  {
   "cell_type": "code",
   "execution_count": 1,
   "metadata": {
    "colab": {
     "base_uri": "https://localhost:8080/"
    },
    "id": "nETH4dqzXtqf",
    "outputId": "ece21caf-2b0a-46b8-a780-c24d1dc2fe37"
   },
   "outputs": [],
   "source": [
    "# from google.colab import drive\n",
    "# from google.colab import files\n",
    "from ultralytics import YOLO\n",
    "import torch\n",
    "import zipfile\n",
    "import os\n",
    "# drive.mount('/content/drive')\n",
    "# os.chdir('/content/drive/MyDrive/YOLO-MDP/yolov8')"
   ]
  },
  {
   "cell_type": "markdown",
   "metadata": {
    "id": "dGSqetbWefWZ"
   },
   "source": [
    "## augmented data training\n",
    "\n"
   ]
  },
  {
   "cell_type": "code",
   "execution_count": 5,
   "metadata": {
    "colab": {
     "base_uri": "https://localhost:8080/"
    },
    "id": "Yj24wkdWDqTF",
    "outputId": "c21898e4-466b-4e99-e8ae-501e08de137c"
   },
   "outputs": [
    {
     "name": "stdout",
     "output_type": "stream",
     "text": [
      "Download complete.\n"
     ]
    }
   ],
   "source": [
    "import requests\n",
    "# Download the zip file from Roboflow\n",
    "url = \"https://app.roboflow.com/ds/xzfnzOiLeK?key=qD2DNhNkXh\"\n",
    "response = requests.get(url)\n",
    "\n",
    "# Save the zip file to a local file\n",
    "with open(\"roboflow_assessment.zip\", \"wb\") as f:\n",
    "    f.write(response.content)\n",
    "\n",
    "print(\"Download complete.\")\n",
    "\n",
    "import zipfile\n",
    "\n",
    "# Extract the downloaded zip file\n",
    "with zipfile.ZipFile(\"roboflow_assessment.zip\", 'r') as zip_ref:\n",
    "    zip_ref.extractall(\"augmented_2x_dataset\")\n"
   ]
  },
  {
   "cell_type": "code",
   "execution_count": 7,
   "metadata": {},
   "outputs": [
    {
     "name": "stdout",
     "output_type": "stream",
     "text": [
      "C:\\Users\\dt800\\Documents\\yolo-V8-infrared\\yolov8\n"
     ]
    }
   ],
   "source": [
    "%cd C:\\\\Users\\\\dt800\\\\Documents\\\\yolo-V8-infrared\\\\yolov8"
   ]
  },
  {
   "cell_type": "markdown",
   "metadata": {
    "id": "KHOfJyKhaNjo"
   },
   "source": [
    "## training with vanilla yolo_v8s"
   ]
  },
  {
   "cell_type": "code",
   "execution_count": null,
   "metadata": {
    "colab": {
     "base_uri": "https://localhost:8080/"
    },
    "id": "oI2OcpipEJWD",
    "outputId": "44e89d7e-376a-41dc-8d2d-8671751532c0"
   },
   "outputs": [
    {
     "name": "stderr",
     "output_type": "stream",
     "text": [
      "Ultralytics YOLOv8.0.8  Python-3.9.13 torch-2.0.0+cpu CPU\n",
      "\u001b[34m\u001b[1myolo\\engine\\trainer: \u001b[0mtask=detect, mode=train, model=yolov8s.yaml, data=C:\\Users\\dt800\\Documents\\datasets\\data.yaml, epochs=150, patience=15, batch=16, imgsz=640, save=True, cache=False, device=, workers=8, project=None, name=yolov8_custom, exist_ok=False, pretrained=False, optimizer=SGD, verbose=False, seed=0, deterministic=True, single_cls=False, image_weights=False, rect=False, cos_lr=False, close_mosaic=10, resume=False, overlap_mask=True, mask_ratio=4, dropout=False, val=True, save_json=False, save_hybrid=False, conf=0.001, iou=0.7, max_det=300, half=True, dnn=False, plots=False, source=ultralytics/assets/, show=False, save_txt=False, save_conf=False, save_crop=False, hide_labels=False, hide_conf=False, vid_stride=1, line_thickness=3, visualize=False, augment=False, agnostic_nms=False, retina_masks=False, format=torchscript, keras=False, optimize=False, int8=False, dynamic=False, simplify=False, opset=17, workspace=4, nms=False, lr0=0.01, lrf=0.01, momentum=0.937, weight_decay=0.001, warmup_epochs=3.0, warmup_momentum=0.8, warmup_bias_lr=0.1, box=7.5, cls=0.5, dfl=1.5, fl_gamma=0.0, label_smoothing=0.0, nbs=64, hsv_h=0.015, hsv_s=0.7, hsv_v=0.4, degrees=0.0, translate=0.1, scale=0.5, shear=0.0, perspective=0.0, flipud=0.0, fliplr=0.5, mosaic=1.0, mixup=0.0, copy_paste=0.0, cfg=None, hydra={'output_subdir': None, 'run': {'dir': '.'}}, v5loader=True, save_dir=C:\\Users\\dt800\\Documents\\yolo-V8-infrared\\runs\\detect\\yolov8_custom38\n",
      "Overriding model.yaml nc=80 with nc=1\n",
      "\n",
      "                   from  n    params  module                                       arguments                     \n",
      "  0                  -1  1       928  ultralytics.nn.modules.Conv                  [3, 32, 3, 2]                 \n",
      "  1                  -1  1     18560  ultralytics.nn.modules.Conv                  [32, 64, 3, 2]                \n",
      "  2                  -1  1     29056  ultralytics.nn.modules.C2f                   [64, 64, 1, True]             \n",
      "  3                  -1  1     73984  ultralytics.nn.modules.Conv                  [64, 128, 3, 2]               \n",
      "  4                  -1  2    197632  ultralytics.nn.modules.C2f                   [128, 128, 2, True]           \n",
      "  5                  -1  1    295424  ultralytics.nn.modules.Conv                  [128, 256, 3, 2]              \n",
      "  6                  -1  2    788480  ultralytics.nn.modules.C2f                   [256, 256, 2, True]           \n",
      "  7                  -1  1   1180672  ultralytics.nn.modules.Conv                  [256, 512, 3, 2]              \n",
      "  8                  -1  1   1838080  ultralytics.nn.modules.C2f                   [512, 512, 1, True]           \n",
      "  9                  -1  1    656896  ultralytics.nn.modules.SPPF                  [512, 512, 5]                 \n",
      " 10                  -1  1         0  torch.nn.modules.upsampling.Upsample         [None, 2, 'nearest']          \n",
      " 11             [-1, 6]  1         0  ultralytics.nn.modules.Concat                [1]                           \n",
      " 12                  -1  1    591360  ultralytics.nn.modules.C2f                   [768, 256, 1]                 \n",
      " 13                  -1  1         0  torch.nn.modules.upsampling.Upsample         [None, 2, 'nearest']          \n",
      " 14             [-1, 4]  1         0  ultralytics.nn.modules.Concat                [1]                           \n",
      " 15                  -1  1    148224  ultralytics.nn.modules.C2f                   [384, 128, 1]                 \n",
      " 16                  -1  1    147712  ultralytics.nn.modules.Conv                  [128, 128, 3, 2]              \n",
      " 17            [-1, 12]  1         0  ultralytics.nn.modules.Concat                [1]                           \n",
      " 18                  -1  1    493056  ultralytics.nn.modules.C2f                   [384, 256, 1]                 \n",
      " 19                  -1  1    590336  ultralytics.nn.modules.Conv                  [256, 256, 3, 2]              \n",
      " 20             [-1, 9]  1         0  ultralytics.nn.modules.Concat                [1]                           \n",
      " 21                  -1  1   1969152  ultralytics.nn.modules.C2f                   [768, 512, 1]                 \n",
      " 22        [15, 18, 21]  1   2116435  ultralytics.nn.modules.Detect                [1, [128, 256, 512]]          \n",
      "Model summary: 225 layers, 11135987 parameters, 11135971 gradients, 28.6 GFLOPs\n",
      "\n",
      "Transferred 349/355 items from pretrained weights\n",
      "\u001b[34m\u001b[1moptimizer:\u001b[0m SGD(lr=0.01) with parameter groups 57 weight(decay=0.0), 64 weight(decay=0.001), 63 bias\n"
     ]
    },
    {
     "name": "stdout",
     "output_type": "stream",
     "text": [
      "wow this is running!\n",
      "True\n"
     ]
    },
    {
     "name": "stderr",
     "output_type": "stream",
     "text": [
      "\u001b[34m\u001b[1malbumentations: \u001b[0mBlur(p=0.01, blur_limit=(3, 7)), MedianBlur(p=0.01, blur_limit=(3, 7)), ToGray(p=0.01), CLAHE(p=0.01, clip_limit=(1, 4.0), tile_grid_size=(8, 8))\n",
      "\u001b[34m\u001b[1mtrain: \u001b[0mScanning C:\\Users\\dt800\\Documents\\datasets\\train\\labels.cache... 5198 images, 810 backgrounds, 0 corrupt: 100%|█\u001b[0m\n"
     ]
    },
    {
     "name": "stdout",
     "output_type": "stream",
     "text": [
      "True\n"
     ]
    },
    {
     "name": "stderr",
     "output_type": "stream",
     "text": [
      "\u001b[34m\u001b[1mval: \u001b[0mScanning C:\\Users\\dt800\\Documents\\datasets\\valid\\labels... 634 images, 49 backgrounds, 0 corrupt: 100%|██████████|\u001b[0m\n",
      "\u001b[34m\u001b[1mval: \u001b[0mWARNING  Cache directory C:\\Users\\dt800\\Documents\\datasets\\valid is not writeable: [WinError 183] Cannot create a file when that file already exists: 'C:\\\\Users\\\\dt800\\\\Documents\\\\datasets\\\\valid\\\\labels.cache.npy' -> 'C:\\\\Users\\\\dt800\\\\Documents\\\\datasets\\\\valid\\\\labels.cache'\n",
      "Image sizes 640 train, 640 val\n",
      "Using 0 dataloader workers\n",
      "Logging results to \u001b[1mC:\\Users\\dt800\\Documents\\yolo-V8-infrared\\runs\\detect\\yolov8_custom38\u001b[0m\n",
      "Starting training for 150 epochs...\n",
      "\n",
      "      Epoch    GPU_mem   box_loss   cls_loss   dfl_loss  Instances       Size\n",
      "  0%|          | 0/325 [00:00<?, ?it/s]"
     ]
    },
    {
     "name": "stdout",
     "output_type": "stream",
     "text": [
      "(640, 640, 4)\n",
      "(640, 640, 4)\n",
      "(640, 640, 4)\n",
      "(640, 640, 4)\n",
      "C:\\Users\\dt800\\Downloads\\ir\\loc3_110infrared.png\n",
      "(640, 640, 4)\n",
      "(640, 640, 4)\n",
      "(640, 640, 4)\n",
      "(640, 640, 4)\n",
      "(640, 640, 4)\n",
      "(640, 640, 4)\n",
      "(640, 640, 4)\n",
      "(640, 640, 4)\n",
      "(640, 640, 4)\n",
      "(640, 640, 4)\n",
      "(640, 640, 4)\n",
      "(640, 640, 4)\n"
     ]
    },
    {
     "name": "stderr",
     "output_type": "stream",
     "text": [
      "      1/150         0G      1.415      2.648      1.428         85        640:   0%|          | 1/325 [00:16<1:29:04, 1"
     ]
    },
    {
     "name": "stdout",
     "output_type": "stream",
     "text": [
      "(640, 640, 4)\n",
      "(640, 640, 4)\n",
      "(640, 640, 4)\n",
      "(640, 640, 4)\n",
      "(640, 640, 4)\n",
      "(640, 640, 4)\n",
      "(640, 640, 4)\n",
      "(640, 640, 4)\n",
      "(640, 640, 4)\n",
      "(640, 640, 4)\n",
      "(640, 640, 4)\n",
      "C:\\Users\\dt800\\Downloads\\ir\\loc2_105infrared.png\n",
      "(640, 640, 4)\n",
      "(640, 640, 4)\n",
      "C:\\Users\\dt800\\Downloads\\ir\\loc1_25infrared.png\n",
      "(640, 640, 4)\n",
      "(640, 640, 4)\n",
      "(640, 640, 4)\n"
     ]
    },
    {
     "name": "stderr",
     "output_type": "stream",
     "text": [
      "      1/150         0G      1.268       2.64       1.36         68        640:   1%|          | 2/325 [00:31<1:24:38, 1"
     ]
    },
    {
     "name": "stdout",
     "output_type": "stream",
     "text": [
      "(640, 640, 4)\n",
      "(640, 640, 4)\n",
      "(640, 640, 4)\n",
      "(640, 640, 4)\n",
      "(640, 640, 4)\n",
      "(640, 640, 4)\n",
      "(640, 640, 4)\n",
      "(640, 640, 4)\n",
      "(640, 640, 4)\n",
      "(640, 640, 4)\n",
      "C:\\Users\\dt800\\Downloads\\ir\\loc1_256infrared.png\n",
      "(640, 640, 4)\n",
      "(640, 640, 4)\n",
      "(640, 640, 4)\n",
      "(640, 640, 4)\n",
      "(640, 640, 4)\n",
      "(640, 640, 4)\n"
     ]
    },
    {
     "name": "stderr",
     "output_type": "stream",
     "text": [
      "      1/150         0G      1.305      2.655      1.398         80        640:   1%|          | 3/325 [00:46<1:23:15, 1"
     ]
    },
    {
     "name": "stdout",
     "output_type": "stream",
     "text": [
      "(640, 640, 4)\n",
      "C:\\Users\\dt800\\Downloads\\ir\\loc3_121infrared.png\n",
      "(640, 640, 4)\n",
      "(640, 640, 4)\n",
      "C:\\Users\\dt800\\Downloads\\ir\\loc1_71infrared.png\n",
      "(640, 640, 4)\n",
      "(640, 640, 4)\n",
      "(640, 640, 4)\n",
      "(640, 640, 4)\n",
      "(640, 640, 4)\n",
      "(640, 640, 4)\n",
      "C:\\Users\\dt800\\Downloads\\ir\\loc1_73infrared.png\n",
      "(640, 640, 4)\n",
      "(640, 640, 4)\n",
      "(640, 640, 4)\n",
      "(640, 640, 4)\n",
      "(640, 640, 4)\n",
      "(640, 640, 4)\n",
      "(640, 640, 4)\n"
     ]
    }
   ],
   "source": [
    "# Initialize the YOLO model with pre-trained weights\n",
    "model = YOLO('C:\\\\Users\\\\dt800\\\\Documents\\\\yolo-V8-infrared\\\\yolov8\\\\yolov8s.pt')\n",
    "\n",
    "# Train the model with your custom dataset\n",
    "model.train(\n",
    "    data=\"C:\\\\Users\\\\dt800\\\\Documents\\\\datasets\\\\data.yaml\",\n",
    "    epochs=150,\n",
    "    imgsz=640,\n",
    "    batch=16,\n",
    "    name='yolov8_custom',\n",
    "    patience=15\n",
    ")"
   ]
  },
  {
   "cell_type": "code",
   "execution_count": null,
   "metadata": {
    "colab": {
     "base_uri": "https://localhost:8080/",
     "height": 35
    },
    "id": "NzkQlcYX8pnf",
    "outputId": "6c10b59a-ca16-49c4-f22a-035dbeb84c86"
   },
   "outputs": [],
   "source": [
    "%pwd"
   ]
  },
  {
   "cell_type": "code",
   "execution_count": null,
   "metadata": {
    "colab": {
     "base_uri": "https://localhost:8080/"
    },
    "id": "faGA4O-JRlrR",
    "outputId": "673368e2-0d9d-40b3-f6a3-41517529a5df"
   },
   "outputs": [
    {
     "name": "stdout",
     "output_type": "stream",
     "text": [
      "Ultralytics 8.3.18 🚀 Python-3.10.12 torch-2.4.1+cu121 CUDA:0 (Tesla T4, 15102MiB)\n",
      "Model summary (fused): 186 layers, 9,828,051 parameters, 0 gradients, 23.3 GFLOPs\n",
      "Downloading https://ultralytics.com/assets/Arial.ttf to '/root/.config/Ultralytics/Arial.ttf'...\n"
     ]
    },
    {
     "name": "stderr",
     "output_type": "stream",
     "text": [
      "100%|██████████| 755k/755k [00:00<00:00, 16.0MB/s]\n",
      "\u001b[34m\u001b[1mval: \u001b[0mScanning /content/drive/MyDrive/YOLO-MDP/yolov8/valid/labels.cache... 289 images, 13 backgrounds, 0 corrupt: 100%|██████████| 289/289 [00:00<?, ?it/s]\n",
      "                 Class     Images  Instances      Box(P          R      mAP50  mAP50-95): 100%|██████████| 19/19 [00:16<00:00,  1.16it/s]\n"
     ]
    },
    {
     "name": "stdout",
     "output_type": "stream",
     "text": [
      "                   all        289        594      0.894      0.877      0.923      0.666\n",
      "Speed: 1.8ms preprocess, 7.0ms inference, 0.0ms loss, 6.6ms postprocess per image\n",
      "Results saved to \u001b[1mruns/detect/val2\u001b[0m\n"
     ]
    }
   ],
   "source": [
    "# Load your trained model\n",
    "model = YOLO('/content/drive/MyDrive/YOLO-MDP/yolov8/best-4.pt')  # Replace with the actual path to your .pt file\n",
    "\n",
    "# Run validation on the validation dataset (specified in your data.yaml)\n",
    "metrics = model.val(data='/content/drive/MyDrive/YOLO-MDP/yolov8/data.yaml')  # Replace with the correct path to your data.yaml file"
   ]
  },
  {
   "cell_type": "markdown",
   "metadata": {
    "id": "PJfzLd6ZYroH"
   },
   "source": [
    "##Assessment Summary"
   ]
  },
  {
   "cell_type": "markdown",
   "metadata": {
    "id": "w-SWUv4G75h_"
   },
   "source": [
    "##new testing set\n"
   ]
  },
  {
   "cell_type": "code",
   "execution_count": null,
   "metadata": {
    "id": "_ttL8ntKaZN6"
   },
   "outputs": [],
   "source": [
    "%pwd\n",
    "%cd /content/drive/MyDrive/YOLO-MDP/yolov8/testing_folder_poses/"
   ]
  },
  {
   "cell_type": "code",
   "execution_count": null,
   "metadata": {
    "colab": {
     "base_uri": "https://localhost:8080/"
    },
    "id": "HsX4Mz2H8Rvi",
    "outputId": "2db82ac9-3e72-47e6-9c69-4f27940c4860"
   },
   "outputs": [
    {
     "name": "stdout",
     "output_type": "stream",
     "text": [
      "Download complete.\n",
      "Extraction complete.\n",
      "Download complete.\n",
      "Extraction complete.\n",
      "Download complete.\n",
      "Extraction complete.\n",
      "Download complete.\n",
      "Extraction complete.\n"
     ]
    }
   ],
   "source": [
    "import zipfile\n",
    "import requests\n",
    "\n",
    "\n",
    "# Download the zip file from Roboflow\n",
    "url = \"https://app.roboflow.com/ds/aiYjCtg8JA?key=8G45YOPIfQ\"\n",
    "response = requests.get(url)\n",
    "\n",
    "# Save the zip file to a local file\n",
    "with open(\"roboflow_assessment.zip\", \"wb\") as f:\n",
    "    f.write(response.content)\n",
    "print(\"Download complete.\")\n",
    "\n",
    "# Extract the downloaded zip file\n",
    "with zipfile.ZipFile(\"roboflow_assessment.zip\", 'r') as zip_ref:\n",
    "    zip_ref.extractall(\"assessment--crouching-v50\")\n",
    "print(\"Extraction complete.\")\n",
    "\n",
    "\n",
    "# Download the zip file from Roboflow\n",
    "url = \"https://app.roboflow.com/ds/9WMRiHspY5?key=meZdqUKhSi\"\n",
    "response = requests.get(url)\n",
    "\n",
    "# Save the zip file to a local file\n",
    "with open(\"roboflow_assessment.zip\", \"wb\") as f:\n",
    "    f.write(response.content)\n",
    "print(\"Download complete.\")\n",
    "\n",
    "# Extract the downloaded zip file\n",
    "with zipfile.ZipFile(\"roboflow_assessment.zip\", 'r') as zip_ref:\n",
    "    zip_ref.extractall(\"assessment--bending-v51\")\n",
    "print(\"Extraction complete.\")\n",
    "\n",
    "\n",
    "# Download the zip file from Roboflow\n",
    "url = \"https://app.roboflow.com/ds/BPLd8CJXQR?key=XOwDTiovQL\"\n",
    "response = requests.get(url)\n",
    "\n",
    "# Save the zip file to a local file\n",
    "with open(\"roboflow_assessment.zip\", \"wb\") as f:\n",
    "    f.write(response.content)\n",
    "print(\"Download complete.\")\n",
    "\n",
    "# Extract the downloaded zip file\n",
    "with zipfile.ZipFile(\"roboflow_assessment.zip\", 'r') as zip_ref:\n",
    "    zip_ref.extractall(\"assessment--sitting-v52\")\n",
    "print(\"Extraction complete.\")\n",
    "\n",
    "# Download the zip file from Roboflow\n",
    "url = \"https://app.roboflow.com/ds/D69OHPvWsy?key=QtrDWkMVQg\"\n",
    "response = requests.get(url)\n",
    "\n",
    "# Save the zip file to a local file\n",
    "with open(\"roboflow_assessment.zip\", \"wb\") as f:\n",
    "    f.write(response.content)\n",
    "print(\"Download complete.\")\n",
    "\n",
    "# Extract the downloaded zip file\n",
    "with zipfile.ZipFile(\"roboflow_assessment.zip\", 'r') as zip_ref:\n",
    "    zip_ref.extractall(\"assessment--partial-v53\")\n",
    "print(\"Extraction complete.\")"
   ]
  },
  {
   "cell_type": "code",
   "execution_count": null,
   "metadata": {
    "colab": {
     "base_uri": "https://localhost:8080/"
    },
    "id": "eQoNrpS4SbWN",
    "outputId": "1e7c3a5d-5d7d-4817-afc9-7d9738c1c6ef"
   },
   "outputs": [
    {
     "name": "stdout",
     "output_type": "stream",
     "text": [
      "/content/drive/MyDrive/YOLO-MDP/yolov8/assessment_with_poses\n"
     ]
    }
   ],
   "source": [
    "%pwd\n",
    "# %cd /content/drive/MyDrive/YOLO-MDP/yolov8/testing_folder_poses\n",
    "%cd /content/drive/MyDrive/YOLO-MDP/yolov8/assessment_with_poses"
   ]
  },
  {
   "cell_type": "code",
   "execution_count": null,
   "metadata": {
    "colab": {
     "base_uri": "https://localhost:8080/"
    },
    "id": "vy94WJUBYuv8",
    "outputId": "e071ba12-1d58-49a3-d06e-28e98b093970"
   },
   "outputs": [
    {
     "name": "stdout",
     "output_type": "stream",
     "text": [
      "Partial_v24 assessment:\n",
      "Ultralytics 8.3.24 🚀 Python-3.10.12 torch-2.5.0+cu121 CUDA:0 (Tesla T4, 15102MiB)\n",
      "Model summary (fused): 168 layers, 11,125,971 parameters, 0 gradients, 28.4 GFLOPs\n",
      "Downloading https://ultralytics.com/assets/Arial.ttf to '/root/.config/Ultralytics/Arial.ttf'...\n"
     ]
    },
    {
     "name": "stderr",
     "output_type": "stream",
     "text": [
      "100%|██████████| 755k/755k [00:00<00:00, 22.4MB/s]\n",
      "\u001b[34m\u001b[1mval: \u001b[0mScanning /content/drive/MyDrive/YOLO-MDP/yolov8/assessment_with_poses/roboflow_assessment——partial-v24/valid/labels.cache... 37 images, 0 backgrounds, 0 corrupt: 100%|██████████| 37/37 [00:00<?, ?it/s]\n",
      "                 Class     Images  Instances      Box(P          R      mAP50  mAP50-95): 100%|██████████| 3/3 [00:10<00:00,  3.60s/it]\n"
     ]
    },
    {
     "name": "stdout",
     "output_type": "stream",
     "text": [
      "                   all         37         81          1      0.982      0.994      0.885\n",
      "Speed: 4.4ms preprocess, 19.1ms inference, 0.0ms loss, 4.9ms postprocess per image\n",
      "Results saved to \u001b[1mruns/detect/val45\u001b[0m\n",
      "Ordinary_v28 assessment:\n",
      "Ultralytics 8.3.24 🚀 Python-3.10.12 torch-2.5.0+cu121 CUDA:0 (Tesla T4, 15102MiB)\n"
     ]
    },
    {
     "name": "stderr",
     "output_type": "stream",
     "text": [
      "\u001b[34m\u001b[1mval: \u001b[0mScanning /content/drive/MyDrive/YOLO-MDP/yolov8/assessment_with_poses/roboflow_assessment——ordinary_v28/valid/labels.cache... 37 images, 0 backgrounds, 0 corrupt: 100%|██████████| 37/37 [00:00<?, ?it/s]\n",
      "                 Class     Images  Instances      Box(P          R      mAP50  mAP50-95): 100%|██████████| 3/3 [00:08<00:00,  2.93s/it]\n"
     ]
    },
    {
     "name": "stdout",
     "output_type": "stream",
     "text": [
      "                   all         37         81          1      0.982      0.994      0.885\n",
      "Speed: 2.7ms preprocess, 8.0ms inference, 0.0ms loss, 1.3ms postprocess per image\n",
      "Results saved to \u001b[1mruns/detect/val46\u001b[0m\n",
      "Bending_v20 assessment:\n",
      "Ultralytics 8.3.24 🚀 Python-3.10.12 torch-2.5.0+cu121 CUDA:0 (Tesla T4, 15102MiB)\n"
     ]
    },
    {
     "name": "stderr",
     "output_type": "stream",
     "text": [
      "\u001b[34m\u001b[1mval: \u001b[0mScanning /content/drive/MyDrive/YOLO-MDP/yolov8/assessment_with_poses/roboflow_assessment——bending_v20/valid/labels.cache... 34 images, 0 backgrounds, 0 corrupt: 100%|██████████| 34/34 [00:00<?, ?it/s]\n",
      "                 Class     Images  Instances      Box(P          R      mAP50  mAP50-95): 100%|██████████| 3/3 [00:08<00:00,  2.75s/it]\n"
     ]
    },
    {
     "name": "stdout",
     "output_type": "stream",
     "text": [
      "                   all         34         91      0.976      0.989      0.993      0.873\n",
      "Speed: 8.1ms preprocess, 17.7ms inference, 0.0ms loss, 2.1ms postprocess per image\n",
      "Results saved to \u001b[1mruns/detect/val47\u001b[0m\n",
      "Laying_v23 assessment:\n",
      "Ultralytics 8.3.24 🚀 Python-3.10.12 torch-2.5.0+cu121 CUDA:0 (Tesla T4, 15102MiB)\n"
     ]
    },
    {
     "name": "stderr",
     "output_type": "stream",
     "text": [
      "\u001b[34m\u001b[1mval: \u001b[0mScanning /content/drive/MyDrive/YOLO-MDP/yolov8/assessment_with_poses/roboflow_assessment——laying_v23/valid/labels.cache... 12 images, 0 backgrounds, 0 corrupt: 100%|██████████| 12/12 [00:00<?, ?it/s]\n",
      "                 Class     Images  Instances      Box(P          R      mAP50  mAP50-95): 100%|██████████| 1/1 [00:05<00:00,  5.60s/it]\n"
     ]
    },
    {
     "name": "stdout",
     "output_type": "stream",
     "text": [
      "                   all         12         29      0.997      0.966      0.991      0.857\n",
      "Speed: 0.2ms preprocess, 11.9ms inference, 0.0ms loss, 3.7ms postprocess per image\n",
      "Results saved to \u001b[1mruns/detect/val48\u001b[0m\n",
      "Sitting_v22 assessment:\n",
      "Ultralytics 8.3.24 🚀 Python-3.10.12 torch-2.5.0+cu121 CUDA:0 (Tesla T4, 15102MiB)\n"
     ]
    },
    {
     "name": "stderr",
     "output_type": "stream",
     "text": [
      "\u001b[34m\u001b[1mval: \u001b[0mScanning /content/drive/MyDrive/YOLO-MDP/yolov8/assessment_with_poses/roboflow_assessment——sitting_v22/valid/labels.cache... 22 images, 0 backgrounds, 0 corrupt: 100%|██████████| 22/22 [00:00<?, ?it/s]\n",
      "                 Class     Images  Instances      Box(P          R      mAP50  mAP50-95): 100%|██████████| 2/2 [00:07<00:00,  3.89s/it]\n"
     ]
    },
    {
     "name": "stdout",
     "output_type": "stream",
     "text": [
      "                   all         22         50      0.993       0.96      0.993      0.866\n",
      "Speed: 10.6ms preprocess, 19.2ms inference, 0.2ms loss, 2.7ms postprocess per image\n",
      "Results saved to \u001b[1mruns/detect/val49\u001b[0m\n"
     ]
    }
   ],
   "source": [
    "\n",
    "# model = YOLO('/content/drive/MyDrive/YOLO-MDP/yolov8/best-4.pt')\n",
    "model = YOLO('/content/drive/MyDrive/YOLO-MDP/yolov8/pt_files/best-5.pt')\n",
    "\n",
    "print(\"Partial_v24 assessment:\")\n",
    "results = model.val(data='/content/drive/MyDrive/YOLO-MDP/yolov8/assessment_with_poses/roboflow_assessment——partial-v24/data.yaml')\n",
    "\n",
    "print(\"Ordinary_v28 assessment:\")\n",
    "# Run validation on your assessment dataset\n",
    "results = model.val(data='/content/drive/MyDrive/YOLO-MDP/yolov8/assessment_with_poses/roboflow_assessment——ordinary_v28/data.yaml')\n",
    "\n",
    "print(\"Bending_v20 assessment:\")\n",
    "# Run validation on your assessment dataset\n",
    "results = model.val(data='/content/drive/MyDrive/YOLO-MDP/yolov8/assessment_with_poses/roboflow_assessment——bending_v20/data.yaml')\n",
    "\n",
    "print(\"Laying_v23 assessment:\")\n",
    "# Run validation on your assessment dataset\n",
    "results = model.val(data='/content/drive/MyDrive/YOLO-MDP/yolov8/assessment_with_poses/roboflow_assessment——laying_v23/data.yaml')\n",
    "\n",
    "\n",
    "print(\"Sitting_v22 assessment:\")\n",
    "# Run validation on your assessment dataset\n",
    "results = model.val(data='/content/drive/MyDrive/YOLO-MDP/yolov8/assessment_with_poses/roboflow_assessment——sitting_v22/data.yaml')\n",
    "\n",
    "# print(\"Partial_v53 assessment:\")\n",
    "# results = model.val(data='/content/drive/MyDrive/YOLO-MDP/yolov8/testing_folder_poses/assessment--partial-v53/data.yaml')\n",
    "\n",
    "\n",
    "# print(\"Crouching_v50 assessment:\")\n",
    "# # Run validation on your assessment dataset\n",
    "# results = model.val(data='/content/drive/MyDrive/YOLO-MDP/yolov8/testing_folder_poses/assessment--crouching-v50/data.yaml')\n",
    "\n",
    "\n",
    "# # print(\"Ordinary_v28 assessment:\")\n",
    "# # # Run validation on your assessment dataset\n",
    "# # results = model.val(data='/content/drive/MyDrive/YOLO-MDP/yolov8/testing_folder_poses/roboflow_assessment——ordinary_v28/data.yaml')\n",
    "\n",
    "\n",
    "# print(\"Bending_v51 assessment:\")\n",
    "# # Run validation on your assessment dataset\n",
    "# results = model.val(data='/content/drive/MyDrive/YOLO-MDP/yolov8/testing_folder_poses/assessment--bending-v51/data.yaml')\n",
    "\n",
    "\n",
    "# # print(\"Laying_v23 assessment:\")\n",
    "# # # Run validation on your assessment dataset\n",
    "# # results = model.val(data='/content/drive/MyDrive/YOLO-MDP/yolov8/testing_folder_poses/roboflow_assessment——laying_v23/data.yaml')\n",
    "\n",
    "\n",
    "# print(\"Sitting_v52 assessment:\")\n",
    "# # Run validation on your assessment dataset\n",
    "# results = model.val(data='/content/drive/MyDrive/YOLO-MDP/yolov8/testing_folder_poses/assessment--sitting-v52/data.yaml')"
   ]
  },
  {
   "cell_type": "code",
   "execution_count": null,
   "metadata": {
    "colab": {
     "base_uri": "https://localhost:8080/",
     "height": 35
    },
    "id": "K3sBQsJA9aYR",
    "outputId": "32551368-dec4-48d9-8a21-0c322ea51402"
   },
   "outputs": [
    {
     "data": {
      "application/vnd.google.colaboratory.intrinsic+json": {
       "type": "string"
      },
      "text/plain": [
       "'/content/drive/MyDrive/YOLO-MDP/yolov8/testing_folder_poses'"
      ]
     },
     "execution_count": 20,
     "metadata": {},
     "output_type": "execute_result"
    }
   ],
   "source": [
    "%pwd"
   ]
  },
  {
   "cell_type": "code",
   "execution_count": null,
   "metadata": {
    "colab": {
     "base_uri": "https://localhost:8080/"
    },
    "id": "_8MQcjho9RNb",
    "outputId": "bcea396f-4464-4b91-8c74-ae2a38f6279e"
   },
   "outputs": [
    {
     "name": "stdout",
     "output_type": "stream",
     "text": [
      "Download complete.\n",
      "Extraction complete.\n"
     ]
    }
   ],
   "source": [
    "\n",
    "# Download the zip file from Roboflow\n",
    "url = \"https://app.roboflow.com/ds/GYdDAnw4uQ?key=dra1aaKPqr\"\n",
    "response = requests.get(url)\n",
    "\n",
    "# Save the zip file to a local file\n",
    "with open(\"roboflow_assessment.zip\", \"wb\") as f:\n",
    "    f.write(response.content)\n",
    "print(\"Download complete.\")\n",
    "\n",
    "# Extract the downloaded zip file\n",
    "with zipfile.ZipFile(\"roboflow_assessment.zip\", 'r') as zip_ref:\n",
    "    zip_ref.extractall(\"assessment--laying-v55\")\n",
    "print(\"Extraction complete.\")\n"
   ]
  },
  {
   "cell_type": "code",
   "execution_count": null,
   "metadata": {
    "colab": {
     "base_uri": "https://localhost:8080/"
    },
    "id": "3SScnHay9425",
    "outputId": "c5414b4e-3139-4607-8994-fabfa801511f"
   },
   "outputs": [
    {
     "name": "stdout",
     "output_type": "stream",
     "text": [
      "Laying_v55 assessment:\n",
      "Ultralytics 8.3.24 🚀 Python-3.10.12 torch-2.5.0+cu121 CUDA:0 (Tesla T4, 15102MiB)\n",
      "Model summary (fused): 168 layers, 11,125,971 parameters, 0 gradients, 28.4 GFLOPs\n"
     ]
    },
    {
     "name": "stderr",
     "output_type": "stream",
     "text": [
      "\u001b[34m\u001b[1mval: \u001b[0mScanning /content/drive/MyDrive/YOLO-MDP/yolov8/testing_folder_poses/assessment--laying-v55/valid/labels... 14 images, 0 backgrounds, 0 corrupt: 100%|██████████| 14/14 [00:00<00:00, 99.78it/s]"
     ]
    },
    {
     "name": "stdout",
     "output_type": "stream",
     "text": [
      "\u001b[34m\u001b[1mval: \u001b[0mNew cache created: /content/drive/MyDrive/YOLO-MDP/yolov8/testing_folder_poses/assessment--laying-v55/valid/labels.cache\n"
     ]
    },
    {
     "name": "stderr",
     "output_type": "stream",
     "text": [
      "\n",
      "                 Class     Images  Instances      Box(P          R      mAP50  mAP50-95): 100%|██████████| 1/1 [00:00<00:00,  2.02it/s]\n"
     ]
    },
    {
     "name": "stdout",
     "output_type": "stream",
     "text": [
      "                   all         14         45      0.997      0.867       0.93      0.787\n",
      "Speed: 0.2ms preprocess, 8.9ms inference, 0.0ms loss, 1.9ms postprocess per image\n",
      "Results saved to \u001b[1mruns/detect/val10\u001b[0m\n"
     ]
    }
   ],
   "source": [
    "\n",
    "model = YOLO('/content/drive/MyDrive/YOLO-MDP/yolov8/runs/detect/yolov8_custom2/weights/best.pt')\n",
    "\n",
    "\n",
    "print(\"Laying_v55 assessment:\")\n",
    "results = model.val(data='/content/drive/MyDrive/YOLO-MDP/yolov8/testing_folder_poses/assessment--laying-v55/data.yaml')\n"
   ]
  },
  {
   "cell_type": "markdown",
   "metadata": {
    "id": "fyLeR8pXWY0l"
   },
   "source": [
    "## Partial Assessment\n"
   ]
  },
  {
   "cell_type": "code",
   "execution_count": null,
   "metadata": {
    "colab": {
     "base_uri": "https://localhost:8080/"
    },
    "id": "mvdv6uLJWa7x",
    "outputId": "f1f8c615-00e1-400b-e5c2-11193cdba31e"
   },
   "outputs": [
    {
     "name": "stdout",
     "output_type": "stream",
     "text": [
      "/content/drive/MyDrive/YOLO-MDP/yolov8/assessment_with_poses\n",
      "crouchingv19 assessment\n",
      "Ultralytics 8.3.23 🚀 Python-3.10.12 torch-2.5.0+cu121 CUDA:0 (Tesla T4, 15102MiB)\n",
      "Model summary (fused): 168 layers, 11,125,971 parameters, 0 gradients, 28.4 GFLOPs\n"
     ]
    },
    {
     "name": "stderr",
     "output_type": "stream",
     "text": [
      "\u001b[34m\u001b[1mval: \u001b[0mScanning /content/drive/MyDrive/YOLO-MDP/yolov8/assessment_with_poses/roboflow_assessment--partial-v24/valid/labels.cache... 13 images, 0 backgrounds, 0 corrupt: 100%|██████████| 13/13 [00:00<?, ?it/s]\n",
      "                 Class     Images  Instances      Box(P          R      mAP50  mAP50-95): 100%|██████████| 1/1 [00:05<00:00,  5.64s/it]\n"
     ]
    },
    {
     "name": "stdout",
     "output_type": "stream",
     "text": [
      "                   all         13         54      0.891      0.741      0.837      0.692\n",
      "Speed: 0.3ms preprocess, 10.9ms inference, 0.0ms loss, 1.6ms postprocess per image\n",
      "Results saved to \u001b[1mruns/detect/val27\u001b[0m\n"
     ]
    }
   ],
   "source": [
    "%pwd\n",
    "%cd /content/drive/MyDrive/YOLO-MDP/yolov8/assessment_with_poses\n",
    "\n",
    "# import requests\n",
    "\n",
    "# # Download the zip file from Roboflow\n",
    "# url = \"https://app.roboflow.com/ds/r0dAbyq1yH?key=88qBjKprnc\"\n",
    "# response = requests.get(url)\n",
    "\n",
    "# # Save the zip file to a local file\n",
    "# with open(\"roboflow_assessment.zip\", \"wb\") as f:\n",
    "#     f.write(response.content)\n",
    "\n",
    "# print(\"Download complete.\")\n",
    "\n",
    "# import zipfile\n",
    "\n",
    "# # Extract the downloaded zip file\n",
    "# with zipfile.ZipFile(\"roboflow_assessment.zip\", 'r') as zip_ref:\n",
    "#     zip_ref.extractall(\"roboflow_assessment--partial-v24\")\n",
    "\n",
    "# print(\"Extraction complete.\")\n",
    "\n",
    "from ultralytics import YOLO\n",
    "\n",
    "# Load your new YOLOv8 model from the .pt file\n",
    "# model = YOLO('/content/drive/MyDrive/YOLO-MDP/yolov8/best-4.pt')\n",
    "model = YOLO('/content/drive/MyDrive/YOLO-MDP/yolov8/train_with_augmentation/augmented_larger_dataset/runs/detect/yolov8_custom2/weights/best.pt')\n",
    "print(\"crouchingv19 assessment\")\n",
    "\n",
    "# Run validation on your assessment dataset\n",
    "results = model.val(data='/content/drive/MyDrive/YOLO-MDP/yolov8/assessment_with_poses/roboflow_assessment--partial-v24/data.yaml')\n"
   ]
  },
  {
   "cell_type": "markdown",
   "metadata": {
    "id": "1EtsmNvEeKm6"
   },
   "source": [
    "ASsessment with multimodel dataset\n"
   ]
  },
  {
   "cell_type": "markdown",
   "metadata": {
    "id": "srw_GcisV2fw"
   },
   "source": [
    "## Crouching Assessment"
   ]
  },
  {
   "cell_type": "code",
   "execution_count": null,
   "metadata": {
    "colab": {
     "base_uri": "https://localhost:8080/"
    },
    "id": "wPd7A9c4eeuD",
    "outputId": "36cf368a-c53e-47fa-f097-ad038ba22fb2"
   },
   "outputs": [
    {
     "name": "stdout",
     "output_type": "stream",
     "text": [
      "/content/drive/MyDrive/YOLO-MDP/yolov8/assessment_with_poses\n",
      "crouchingv19 assessment\n",
      "Ultralytics 8.3.23 🚀 Python-3.10.12 torch-2.5.0+cu121 CUDA:0 (Tesla T4, 15102MiB)\n",
      "Model summary (fused): 168 layers, 11,125,971 parameters, 0 gradients, 28.4 GFLOPs\n"
     ]
    },
    {
     "name": "stderr",
     "output_type": "stream",
     "text": [
      "\u001b[34m\u001b[1mval: \u001b[0mScanning /content/drive/MyDrive/YOLO-MDP/yolov8/assessment_with_poses/roboflow_assessment——crouching/valid/labels.cache... 62 images, 0 backgrounds, 0 corrupt: 100%|██████████| 62/62 [00:00<?, ?it/s]\n",
      "                 Class     Images  Instances      Box(P          R      mAP50  mAP50-95): 100%|██████████| 4/4 [00:13<00:00,  3.48s/it]\n"
     ]
    },
    {
     "name": "stdout",
     "output_type": "stream",
     "text": [
      "                   all         62        148       0.95      0.872      0.917      0.719\n",
      "Speed: 0.3ms preprocess, 10.9ms inference, 0.0ms loss, 3.2ms postprocess per image\n",
      "Results saved to \u001b[1mruns/detect/val28\u001b[0m\n"
     ]
    }
   ],
   "source": [
    "%pwd\n",
    "%cd /content/drive/MyDrive/YOLO-MDP/yolov8/assessment_with_poses\n",
    "\n",
    "# import requests\n",
    "\n",
    "# # Download the zip file from Roboflow\n",
    "# url = \"https://app.roboflow.com/ds/VByZAsYJnU?key=G3wI72uUuh\"\n",
    "# response = requests.get(url)\n",
    "\n",
    "# # Save the zip file to a local file\n",
    "# with open(\"roboflow_assessment.zip\", \"wb\") as f:\n",
    "#     f.write(response.content)\n",
    "\n",
    "# print(\"Download complete.\")\n",
    "\n",
    "# import zipfile\n",
    "\n",
    "# # Extract the downloaded zip file\n",
    "# with zipfile.ZipFile(\"roboflow_assessment.zip\", 'r') as zip_ref:\n",
    "#     zip_ref.extractall(\"roboflow_assessment——crouching\")\n",
    "\n",
    "# print(\"Extraction complete.\")\n",
    "\n",
    "# from ultralytics import YOLO\n",
    "\n",
    "# Load your new YOLOv8 model from the .pt file\n",
    "# model = YOLO('/content/drive/MyDrive/YOLO-MDP/yolov8/best-4.pt')\n",
    "model = YOLO('/content/drive/MyDrive/YOLO-MDP/yolov8/train_with_augmentation/augmented_larger_dataset/runs/detect/yolov8_custom2/weights/best.pt')\n",
    "\n",
    "print(\"crouchingv19 assessment\")\n",
    "\n",
    "# Run validation on your assessment dataset\n",
    "results = model.val(data='/content/drive/MyDrive/YOLO-MDP/yolov8/assessment_with_poses/roboflow_assessment——crouching/data.yaml')\n"
   ]
  },
  {
   "cell_type": "markdown",
   "metadata": {
    "id": "M4pHsMOKVDkx"
   },
   "source": [
    "## Ordinary assessment"
   ]
  },
  {
   "cell_type": "code",
   "execution_count": null,
   "metadata": {
    "colab": {
     "base_uri": "https://localhost:8080/"
    },
    "id": "yLgWWUgGI39d",
    "outputId": "b0670f5a-1f74-4245-95a2-bac7df04b4c8"
   },
   "outputs": [
    {
     "name": "stdout",
     "output_type": "stream",
     "text": [
      "/content/drive/MyDrive/YOLO-MDP/yolov8/assessment_with_poses\n",
      "Ordinary Assessment\n",
      "Ultralytics 8.3.23 🚀 Python-3.10.12 torch-2.5.0+cu121 CUDA:0 (Tesla T4, 15102MiB)\n",
      "Model summary (fused): 168 layers, 11,125,971 parameters, 0 gradients, 28.4 GFLOPs\n"
     ]
    },
    {
     "name": "stderr",
     "output_type": "stream",
     "text": [
      "\u001b[34m\u001b[1mval: \u001b[0mScanning /content/drive/MyDrive/YOLO-MDP/yolov8/assessment_with_poses/roboflow_assessment——ordinary_v28/valid/labels.cache... 37 images, 0 backgrounds, 0 corrupt: 100%|██████████| 37/37 [00:00<?, ?it/s]\n",
      "                 Class     Images  Instances      Box(P          R      mAP50  mAP50-95): 100%|██████████| 3/3 [00:10<00:00,  3.37s/it]\n"
     ]
    },
    {
     "name": "stdout",
     "output_type": "stream",
     "text": [
      "                   all         37         81      0.928      0.961      0.956      0.823\n",
      "Speed: 0.3ms preprocess, 8.8ms inference, 0.0ms loss, 2.6ms postprocess per image\n",
      "Results saved to \u001b[1mruns/detect/val29\u001b[0m\n"
     ]
    }
   ],
   "source": [
    "\n",
    "%pwd\n",
    "%cd /content/drive/MyDrive/YOLO-MDP/yolov8/assessment_with_poses\n",
    "# import requests\n",
    "\n",
    "# # Download the zip file from Roboflow\n",
    "# url = \"https://app.roboflow.com/ds/D4YihTVfoB?key=UKnboyrROr\"\n",
    "# response = requests.get(url)\n",
    "\n",
    "# # Save the zip file to a local file\n",
    "# with open(\"roboflow_assessment.zip\", \"wb\") as f:\n",
    "#     f.write(response.content)\n",
    "\n",
    "# print(\"Download complete.\")\n",
    "\n",
    "# import zipfile\n",
    "\n",
    "# # Extract the downloaded zip file\n",
    "# with zipfile.ZipFile(\"roboflow_assessment.zip\", 'r') as zip_ref:\n",
    "#     zip_ref.extractall(\"roboflow_assessment——partial-v24\")\n",
    "\n",
    "# print(\"Extraction complete.\")\n",
    "\n",
    "# from ultralytics import YOLO\n",
    "\n",
    "# # Load your new YOLOv8 model from the .pt file\n",
    "model = YOLO('/content/drive/MyDrive/YOLO-MDP/yolov8/train_with_augmentation/augmented_larger_dataset/runs/detect/yolov8_custom2/weights/best.pt')\n",
    "\n",
    "print(\"Ordinary Assessment\")\n",
    "\n",
    "# Run validation on your assessment dataset\n",
    "results = model.val(data='/content/drive/MyDrive/YOLO-MDP/yolov8/assessment_with_poses/roboflow_assessment——ordinary_v28/data.yaml')"
   ]
  },
  {
   "cell_type": "markdown",
   "metadata": {
    "id": "UJUfzXurUvNo"
   },
   "source": [
    "## bending assessment"
   ]
  },
  {
   "cell_type": "code",
   "execution_count": null,
   "metadata": {
    "colab": {
     "base_uri": "https://localhost:8080/"
    },
    "id": "vsCm22CPEIFy",
    "outputId": "d7485993-70ba-4dcc-815a-41e949012a60"
   },
   "outputs": [
    {
     "name": "stdout",
     "output_type": "stream",
     "text": [
      "/content/drive/MyDrive/YOLO-MDP/yolov8/assessment_with_poses\n",
      "bendingv20 assessment\n",
      "Ultralytics 8.3.23 🚀 Python-3.10.12 torch-2.5.0+cu121 CUDA:0 (Tesla T4, 15102MiB)\n",
      "Model summary (fused): 168 layers, 11,125,971 parameters, 0 gradients, 28.4 GFLOPs\n"
     ]
    },
    {
     "name": "stderr",
     "output_type": "stream",
     "text": [
      "\u001b[34m\u001b[1mval: \u001b[0mScanning /content/drive/MyDrive/YOLO-MDP/yolov8/assessment_with_poses/roboflow_assessment——bending_v20/valid/labels.cache... 34 images, 0 backgrounds, 0 corrupt: 100%|██████████| 34/34 [00:00<?, ?it/s]\n",
      "                 Class     Images  Instances      Box(P          R      mAP50  mAP50-95): 100%|██████████| 3/3 [00:08<00:00,  2.72s/it]\n"
     ]
    },
    {
     "name": "stdout",
     "output_type": "stream",
     "text": [
      "                   all         34         91      0.932       0.91      0.931      0.744\n",
      "Speed: 0.2ms preprocess, 28.4ms inference, 0.0ms loss, 3.0ms postprocess per image\n",
      "Results saved to \u001b[1mruns/detect/val30\u001b[0m\n"
     ]
    }
   ],
   "source": [
    "\n",
    "%pwd\n",
    "%cd /content/drive/MyDrive/YOLO-MDP/yolov8/assessment_with_poses\n",
    "# import requests\n",
    "\n",
    "# # Download the zip file from Roboflow\n",
    "# url = \"https://app.roboflow.com/ds/NMGCoe24mh?key=tHzJTPdWE8\"\n",
    "# response = requests.get(url)\n",
    "\n",
    "# # Save the zip file to a local file\n",
    "# with open(\"roboflow_assessment.zip\", \"wb\") as f:\n",
    "#     f.write(response.content)\n",
    "\n",
    "# print(\"Download complete.\")\n",
    "\n",
    "# import zipfile\n",
    "\n",
    "# # Extract the downloaded zip file\n",
    "# with zipfile.ZipFile(\"roboflow_assessment.zip\", 'r') as zip_ref:\n",
    "#     zip_ref.extractall(\"roboflow_assessment——bending_v20\")\n",
    "\n",
    "# print(\"Extraction complete.\")\n",
    "\n",
    "# from ultralytics import YOLO\n",
    "\n",
    "# Load your new YOLOv8 model from the .pt file\n",
    "model = YOLO('/content/drive/MyDrive/YOLO-MDP/yolov8/train_with_augmentation/augmented_larger_dataset/runs/detect/yolov8_custom2/weights/best.pt')\n",
    "\n",
    "print(\"bendingv20 assessment\")\n",
    "\n",
    "# Run validation on your assessment dataset\n",
    "results = model.val(data='/content/drive/MyDrive/YOLO-MDP/yolov8/assessment_with_poses/roboflow_assessment——bending_v20/data.yaml')\n",
    "\n"
   ]
  },
  {
   "cell_type": "markdown",
   "metadata": {
    "id": "nSWDlL9NQ7Zt"
   },
   "source": [
    "##laying assessment##\n"
   ]
  },
  {
   "cell_type": "code",
   "execution_count": null,
   "metadata": {
    "colab": {
     "base_uri": "https://localhost:8080/"
    },
    "id": "M2hsJxt4ExhX",
    "outputId": "12858cfd-8b76-44d9-ecbe-5e0454e3cc63"
   },
   "outputs": [
    {
     "name": "stdout",
     "output_type": "stream",
     "text": [
      "/content/drive/MyDrive/YOLO-MDP/yolov8/assessment_with_poses\n",
      "layingv23 set\n",
      "Ultralytics 8.3.23 🚀 Python-3.10.12 torch-2.5.0+cu121 CUDA:0 (Tesla T4, 15102MiB)\n",
      "Model summary (fused): 168 layers, 11,125,971 parameters, 0 gradients, 28.4 GFLOPs\n"
     ]
    },
    {
     "name": "stderr",
     "output_type": "stream",
     "text": [
      "\u001b[34m\u001b[1mval: \u001b[0mScanning /content/drive/MyDrive/YOLO-MDP/yolov8/assessment_with_poses/roboflow_assessment——laying_v23/valid/labels.cache... 12 images, 0 backgrounds, 0 corrupt: 100%|██████████| 12/12 [00:00<?, ?it/s]\n",
      "                 Class     Images  Instances      Box(P          R      mAP50  mAP50-95): 100%|██████████| 1/1 [00:04<00:00,  4.78s/it]\n"
     ]
    },
    {
     "name": "stdout",
     "output_type": "stream",
     "text": [
      "                   all         12         29      0.806      0.759      0.783      0.617\n",
      "Speed: 0.2ms preprocess, 12.4ms inference, 0.0ms loss, 3.2ms postprocess per image\n",
      "Results saved to \u001b[1mruns/detect/val31\u001b[0m\n"
     ]
    }
   ],
   "source": [
    "\n",
    "%pwd\n",
    "%cd /content/drive/MyDrive/YOLO-MDP/yolov8/assessment_with_poses\n",
    "# import requests\n",
    "\n",
    "# # Download the zip file from Roboflow\n",
    "# url = \"https://app.roboflow.com/ds/LP2b2adW8H?key=PY8PRVCtou\"\n",
    "# response = requests.get(url)\n",
    "\n",
    "# # Save the zip file to a local file\n",
    "# with open(\"roboflow_assessment.zip\", \"wb\") as f:\n",
    "#     f.write(response.content)\n",
    "\n",
    "# print(\"Download complete.\")\n",
    "\n",
    "# import zipfile\n",
    "\n",
    "# # Extract the downloaded zip file\n",
    "# with zipfile.ZipFile(\"roboflow_assessment.zip\", 'r') as zip_ref:\n",
    "#     zip_ref.extractall(\"roboflow_assessment——laying_v23\")\n",
    "\n",
    "# print(\"Extraction complete.\")\n",
    "\n",
    "# from ultralytics import YOLO\n",
    "\n",
    "# Load your new YOLOv8 model from the .pt file\n",
    "model = YOLO('/content/drive/MyDrive/YOLO-MDP/yolov8/train_with_augmentation/augmented_larger_dataset/runs/detect/yolov8_custom2/weights/best.pt')\n",
    "\n",
    "print(\"layingv23 set\")\n",
    "\n",
    "# Run validation on your assessment dataset\n",
    "results = model.val(data='/content/drive/MyDrive/YOLO-MDP/yolov8/assessment_with_poses/roboflow_assessment——laying_v23/data.yaml')\n",
    "\n"
   ]
  },
  {
   "cell_type": "markdown",
   "metadata": {
    "id": "f-aefuP3QkQV"
   },
   "source": [
    "##sitting assessment##"
   ]
  },
  {
   "cell_type": "code",
   "execution_count": null,
   "metadata": {
    "colab": {
     "base_uri": "https://localhost:8080/"
    },
    "id": "p6Tl5hBFFPiA",
    "outputId": "9d5db98f-1a3f-40c3-90c5-9705f804305b"
   },
   "outputs": [
    {
     "name": "stdout",
     "output_type": "stream",
     "text": [
      "/content/drive/MyDrive/YOLO-MDP/yolov8/assessment_with_poses\n",
      "sittingv22 assessment result\n",
      "Ultralytics 8.3.23 🚀 Python-3.10.12 torch-2.5.0+cu121 CUDA:0 (Tesla T4, 15102MiB)\n",
      "Model summary (fused): 168 layers, 11,125,971 parameters, 0 gradients, 28.4 GFLOPs\n"
     ]
    },
    {
     "name": "stderr",
     "output_type": "stream",
     "text": [
      "\u001b[34m\u001b[1mval: \u001b[0mScanning /content/drive/MyDrive/YOLO-MDP/yolov8/assessment_with_poses/roboflow_assessment——sitting_v22/valid/labels.cache... 22 images, 0 backgrounds, 0 corrupt: 100%|██████████| 22/22 [00:00<?, ?it/s]\n",
      "                 Class     Images  Instances      Box(P          R      mAP50  mAP50-95): 100%|██████████| 2/2 [00:07<00:00,  3.75s/it]\n"
     ]
    },
    {
     "name": "stdout",
     "output_type": "stream",
     "text": [
      "                   all         22         50      0.856      0.835      0.858      0.625\n",
      "Speed: 0.2ms preprocess, 28.0ms inference, 0.0ms loss, 5.4ms postprocess per image\n",
      "Results saved to \u001b[1mruns/detect/val32\u001b[0m\n"
     ]
    }
   ],
   "source": [
    "\n",
    "%pwd\n",
    "%cd /content/drive/MyDrive/YOLO-MDP/yolov8/assessment_with_poses\n",
    "# import requests\n",
    "\n",
    "# # Download the zip file from Roboflow\n",
    "# url = \"https://app.roboflow.com/ds/ROO30tVZP3?key=YNnm7SyT1R\"\n",
    "# response = requests.get(url)\n",
    "\n",
    "# # Save the zip file to a local file\n",
    "# with open(\"roboflow_assessment.zip\", \"wb\") as f:\n",
    "#     f.write(response.content)\n",
    "\n",
    "# print(\"Download complete.\")\n",
    "\n",
    "# import zipfile\n",
    "\n",
    "# # Extract the downloaded zip file\n",
    "# with zipfile.ZipFile(\"roboflow_assessment.zip\", 'r') as zip_ref:\n",
    "#     zip_ref.extractall(\"roboflow_assessment——sitting_v22\")\n",
    "\n",
    "# print(\"Extraction complete.\")\n",
    "\n",
    "# from ultralytics import YOLO\n",
    "\n",
    "# Load your new YOLOv8 model from the .pt file\n",
    "model = YOLO('/content/drive/MyDrive/YOLO-MDP/yolov8/train_with_augmentation/augmented_larger_dataset/runs/detect/yolov8_custom2/weights/best.pt')\n",
    "\n",
    "print(\"sittingv22 assessment result\")\n",
    "\n",
    "# Run validation on your assessment dataset\n",
    "results = model.val(data='/content/drive/MyDrive/YOLO-MDP/yolov8/assessment_with_poses/roboflow_assessment——sitting_v22/data.yaml')\n",
    "\n"
   ]
  }
 ],
 "metadata": {
  "accelerator": "GPU",
  "colab": {
   "gpuType": "T4",
   "provenance": []
  },
  "kernelspec": {
   "display_name": "Python 3 (ipykernel)",
   "language": "python",
   "name": "python3"
  },
  "language_info": {
   "codemirror_mode": {
    "name": "ipython",
    "version": 3
   },
   "file_extension": ".py",
   "mimetype": "text/x-python",
   "name": "python",
   "nbconvert_exporter": "python",
   "pygments_lexer": "ipython3",
   "version": "3.9.13"
  }
 },
 "nbformat": 4,
 "nbformat_minor": 4
}
